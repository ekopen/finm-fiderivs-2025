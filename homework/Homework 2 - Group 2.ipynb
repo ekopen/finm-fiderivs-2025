{
 "cells": [
  {
   "cell_type": "markdown",
   "id": "eea1aff8",
   "metadata": {},
   "source": [
    "# Homework 2\n",
    "\n",
    "## FINM 37500: Fixed Income Derivatives\n",
    "\n",
    "### Mark Hendricks\n",
    "\n",
    "#### Winter 2025"
   ]
  },
  {
   "cell_type": "code",
   "execution_count": 113,
   "id": "5aa53140",
   "metadata": {},
   "outputs": [],
   "source": [
    "import pandas as pd\n",
    "import numpy as np\n",
    "from datetime import datetime\n",
    "import os   \n",
    "import sys\n",
    "import matplotlib.pyplot as plt\n",
    "\n",
    "from sklearn.linear_model import LinearRegression\n",
    "\n",
    "from scipy.optimize import minimize\n",
    "from scipy import interpolate\n",
    "\n",
    "from pandas.tseries.holiday import USFederalHolidayCalendar\n",
    "from pandas.tseries.offsets import CustomBusinessDay\n",
    "import warnings\n",
    "from scipy.optimize import fsolve\n",
    "from scipy.stats import norm\n",
    "\n",
    "from sklearn.decomposition import PCA\n",
    "import warnings\n",
    "from scipy.optimize import fsolve\n",
    "import numpy.polynomial.polynomial as poly\n",
    "warnings.filterwarnings(action='ignore')"
   ]
  },
  {
   "cell_type": "markdown",
   "id": "0e879ec6",
   "metadata": {},
   "source": [
    "***"
   ]
  },
  {
   "cell_type": "markdown",
   "id": "f9d9f901",
   "metadata": {},
   "source": [
    "# 1."
   ]
  },
  {
   "cell_type": "markdown",
   "id": "c450e7d2",
   "metadata": {},
   "source": [
    "## Swaption Vol Data\n",
    "\n",
    "The file `data/swaption_vol_data_2025-01-31.xlsx` has market data on the implied volatility skews for swaptions. Note that it has several columns:\n",
    "* `expry`: expiration of the swaption\n",
    "* `tenor`: tenor of the underlying swap\n",
    "* `model`: the model by which the volatility is quoted. (All are Black.)\n",
    "* `-200`, `-100`, etc.: The strike listed as difference from ATM strike (bps). Note that ATM is considered to be the **forward swapa rate** which you can calculate."
   ]
  },
  {
   "cell_type": "markdown",
   "id": "32ef6430",
   "metadata": {},
   "source": [
    "Your data: ywill use a single row of this data for the `1x4` swaption.\n",
    "* date: `2025-01-31`\n",
    "* expiration: 1yr\n",
    "* tenor: 4yrs"
   ]
  },
  {
   "cell_type": "markdown",
   "id": "051b87a1",
   "metadata": {},
   "source": [
    "## Rate Data\n",
    "\n",
    "The file `data/cap_curves_2025-01-31.xlsx` gives \n",
    "* SOFR swap rates, \n",
    "* their associated discount factors\n",
    "* their associated forward interest rates.\n",
    "\n",
    "You will not need the cap data (flat or forward vols) for this problem."
   ]
  },
  {
   "cell_type": "markdown",
   "id": "52771ae5",
   "metadata": {},
   "source": [
    "## The Swaption\n",
    "\n",
    "Consider the following swaption with the following features:\n",
    "* underlying is a fixed-for-floating (SOFR) swap\n",
    "* the underlying swap has **quarterly** payment frequency\n",
    "* this is a **payer** swaption, which gives the holder the option to **pay** the fixed swap rate and receive SOFR."
   ]
  },
  {
   "cell_type": "code",
   "execution_count": 114,
   "id": "4c2b7b76",
   "metadata": {},
   "outputs": [
    {
     "data": {
      "text/html": [
       "<div>\n",
       "<style scoped>\n",
       "    .dataframe tbody tr th:only-of-type {\n",
       "        vertical-align: middle;\n",
       "    }\n",
       "\n",
       "    .dataframe tbody tr th {\n",
       "        vertical-align: top;\n",
       "    }\n",
       "\n",
       "    .dataframe thead th {\n",
       "        text-align: right;\n",
       "    }\n",
       "</style>\n",
       "<table border=\"1\" class=\"dataframe\">\n",
       "  <thead>\n",
       "    <tr style=\"text-align: right;\">\n",
       "      <th></th>\n",
       "      <th>swap rates</th>\n",
       "      <th>spot rates</th>\n",
       "      <th>discounts</th>\n",
       "      <th>forwards</th>\n",
       "      <th>flat vols</th>\n",
       "      <th>fwd vols</th>\n",
       "    </tr>\n",
       "    <tr>\n",
       "      <th>tenor</th>\n",
       "      <th></th>\n",
       "      <th></th>\n",
       "      <th></th>\n",
       "      <th></th>\n",
       "      <th></th>\n",
       "      <th></th>\n",
       "    </tr>\n",
       "  </thead>\n",
       "  <tbody>\n",
       "    <tr>\n",
       "      <th>0.25</th>\n",
       "      <td>0.042340</td>\n",
       "      <td>0.042340</td>\n",
       "      <td>0.989526</td>\n",
       "      <td>NaN</td>\n",
       "      <td>NaN</td>\n",
       "      <td>NaN</td>\n",
       "    </tr>\n",
       "    <tr>\n",
       "      <th>0.50</th>\n",
       "      <td>0.041854</td>\n",
       "      <td>0.041852</td>\n",
       "      <td>0.979398</td>\n",
       "      <td>0.041364</td>\n",
       "      <td>0.101500</td>\n",
       "      <td>0.101500</td>\n",
       "    </tr>\n",
       "    <tr>\n",
       "      <th>0.75</th>\n",
       "      <td>0.041404</td>\n",
       "      <td>0.041397</td>\n",
       "      <td>0.969584</td>\n",
       "      <td>0.040489</td>\n",
       "      <td>0.116946</td>\n",
       "      <td>0.128478</td>\n",
       "    </tr>\n",
       "    <tr>\n",
       "      <th>1.00</th>\n",
       "      <td>0.041029</td>\n",
       "      <td>0.041018</td>\n",
       "      <td>0.960012</td>\n",
       "      <td>0.039882</td>\n",
       "      <td>0.132391</td>\n",
       "      <td>0.154562</td>\n",
       "    </tr>\n",
       "    <tr>\n",
       "      <th>1.25</th>\n",
       "      <td>0.040458</td>\n",
       "      <td>0.040438</td>\n",
       "      <td>0.950950</td>\n",
       "      <td>0.038117</td>\n",
       "      <td>0.159421</td>\n",
       "      <td>0.219138</td>\n",
       "    </tr>\n",
       "  </tbody>\n",
       "</table>\n",
       "</div>"
      ],
      "text/plain": [
       "       swap rates  spot rates  discounts  forwards  flat vols  fwd vols\n",
       "tenor                                                                  \n",
       "0.25     0.042340    0.042340   0.989526       NaN        NaN       NaN\n",
       "0.50     0.041854    0.041852   0.979398  0.041364   0.101500  0.101500\n",
       "0.75     0.041404    0.041397   0.969584  0.040489   0.116946  0.128478\n",
       "1.00     0.041029    0.041018   0.960012  0.039882   0.132391  0.154562\n",
       "1.25     0.040458    0.040438   0.950950  0.038117   0.159421  0.219138"
      ]
     },
     "execution_count": 114,
     "metadata": {},
     "output_type": "execute_result"
    }
   ],
   "source": [
    "rates = pd.read_excel('../data/cap_curves_2025-01-31.xlsx').set_index('tenor')\n",
    "rates.head()"
   ]
  },
  {
   "cell_type": "code",
   "execution_count": 115,
   "id": "d9e6bd34",
   "metadata": {},
   "outputs": [
    {
     "data": {
      "text/html": [
       "<div>\n",
       "<style scoped>\n",
       "    .dataframe tbody tr th:only-of-type {\n",
       "        vertical-align: middle;\n",
       "    }\n",
       "\n",
       "    .dataframe tbody tr th {\n",
       "        vertical-align: top;\n",
       "    }\n",
       "\n",
       "    .dataframe thead th {\n",
       "        text-align: right;\n",
       "    }\n",
       "</style>\n",
       "<table border=\"1\" class=\"dataframe\">\n",
       "  <thead>\n",
       "    <tr style=\"text-align: right;\">\n",
       "      <th></th>\n",
       "      <th>reference</th>\n",
       "      <th>instrument</th>\n",
       "      <th>model</th>\n",
       "      <th>date</th>\n",
       "      <th>expiration</th>\n",
       "      <th>-200</th>\n",
       "      <th>-100</th>\n",
       "      <th>-50</th>\n",
       "      <th>-25</th>\n",
       "      <th>0</th>\n",
       "      <th>25</th>\n",
       "      <th>50</th>\n",
       "      <th>100</th>\n",
       "      <th>200</th>\n",
       "    </tr>\n",
       "    <tr>\n",
       "      <th>tenor</th>\n",
       "      <th></th>\n",
       "      <th></th>\n",
       "      <th></th>\n",
       "      <th></th>\n",
       "      <th></th>\n",
       "      <th></th>\n",
       "      <th></th>\n",
       "      <th></th>\n",
       "      <th></th>\n",
       "      <th></th>\n",
       "      <th></th>\n",
       "      <th></th>\n",
       "      <th></th>\n",
       "      <th></th>\n",
       "    </tr>\n",
       "  </thead>\n",
       "  <tbody>\n",
       "    <tr>\n",
       "      <th>4</th>\n",
       "      <td>SOFR</td>\n",
       "      <td>swaption</td>\n",
       "      <td>black</td>\n",
       "      <td>2025-01-31</td>\n",
       "      <td>1</td>\n",
       "      <td>42.13</td>\n",
       "      <td>31.51</td>\n",
       "      <td>28.15</td>\n",
       "      <td>26.89</td>\n",
       "      <td>25.9</td>\n",
       "      <td>25.16</td>\n",
       "      <td>24.66</td>\n",
       "      <td>24.23</td>\n",
       "      <td>24.73</td>\n",
       "    </tr>\n",
       "  </tbody>\n",
       "</table>\n",
       "</div>"
      ],
      "text/plain": [
       "      reference instrument  model       date  expiration   -200   -100    -50  \\\n",
       "tenor                                                                           \n",
       "4          SOFR   swaption  black 2025-01-31           1  42.13  31.51  28.15   \n",
       "\n",
       "         -25     0     25     50    100    200  \n",
       "tenor                                           \n",
       "4      26.89  25.9  25.16  24.66  24.23  24.73  "
      ]
     },
     "execution_count": 115,
     "metadata": {},
     "output_type": "execute_result"
    }
   ],
   "source": [
    "swap = pd.read_excel('../data/swaption_vol_data_2025-01-31.xlsx').set_index('tenor')\n",
    "swap.head()"
   ]
  },
  {
   "cell_type": "markdown",
   "id": "f4420b0d",
   "metadata": {},
   "source": [
    "### 1.1\n",
    "Calculate the (relevant) forward swap rate. That is, the one-year forward 4-year swap rate.\n",
    "\n",
    "### 1.2\n",
    "Price the swaptions at the quoted implied volatilites and corresponding strikes, all using the just-calculated forward swap rate as the underlying.\n",
    "\n",
    "### 1.3\n",
    "To consider how the expiration and tenor matter, calculate the prices of a few other swaptions for comparison. \n",
    "* No need to get other implied vol quotes--just use the ATM implied vol you have for the swaption above. (Here we are just interested in how Black's formula changes with changes in tenor and expiration.)\n",
    "* No need to calculate for all the strikes--just do the ATM strike.\n",
    "\n",
    "Alternate swaptions\n",
    "* The 3mo x 4yr swaption\n",
    "* The 2yr x 4yr swaption\n",
    "* the 1yr x 2yr swaption\n",
    "\n",
    "Report these values and compare them to the price of the `1y x 4y` swaption."
   ]
  },
  {
   "cell_type": "markdown",
   "id": "c31b01f1",
   "metadata": {},
   "source": [
    "### 1.1"
   ]
  },
  {
   "cell_type": "code",
   "execution_count": 116,
   "id": "f15c5004",
   "metadata": {},
   "outputs": [],
   "source": [
    "swap_pay_dates = np.arange(1.25, 5.25, 0.25)\n",
    "discount_factor = sum([rates.loc[i, 'discounts'] for i in swap_pay_dates])\n",
    "forward_swap_rate = (rates.loc[1, 'discounts'] - rates.loc[5, 'discounts']) * 4 / discount_factor"
   ]
  },
  {
   "cell_type": "code",
   "execution_count": 117,
   "id": "3721ff85",
   "metadata": {},
   "outputs": [
    {
     "name": "stdout",
     "output_type": "stream",
     "text": [
      "Forward SwapRate: 3.9385%\n"
     ]
    }
   ],
   "source": [
    "print(f\"Forward SwapRate: {(forward_swap_rate*100):,.4f}%\")"
   ]
  },
  {
   "cell_type": "markdown",
   "id": "3536bdda",
   "metadata": {},
   "source": [
    "### 1.2"
   ]
  },
  {
   "cell_type": "code",
   "execution_count": 118,
   "id": "aacba0e4",
   "metadata": {},
   "outputs": [],
   "source": [
    "def blacks_formula(T,vol,strike,fwd,discount=1,isCall=True):\n",
    "        \n",
    "    sigT = vol * np.sqrt(T)\n",
    "    d1 = (1/sigT) * np.log(fwd/strike) + .5*sigT\n",
    "    d2 = d1-sigT\n",
    "    \n",
    "    if isCall:\n",
    "        val = discount * (fwd * norm.cdf(d1) - strike * norm.cdf(d2))\n",
    "    else:\n",
    "        val = discount * (strike * norm.cdf(-d2) - fwd * norm.cdf(-d1))\n",
    "    return val\n",
    "\n",
    "strikes = [0,25,50,100,200,-25,-50,-100,-200]\n",
    "prices = []\n",
    "for strike in strikes:\n",
    "    prices.append((100/4) * blacks_formula(T=1, vol=swap[strike].values/100, strike = forward_swap_rate + strike/10000, fwd=forward_swap_rate, discount = discount_factor))\n",
    "swaption_df = pd.DataFrame(prices, index = strikes, columns=['Price'])\n",
    "swaption_df.index.name = 'strike'"
   ]
  },
  {
   "cell_type": "code",
   "execution_count": 119,
   "id": "bdc13a7c",
   "metadata": {},
   "outputs": [
    {
     "data": {
      "text/html": [
       "<div>\n",
       "<style scoped>\n",
       "    .dataframe tbody tr th:only-of-type {\n",
       "        vertical-align: middle;\n",
       "    }\n",
       "\n",
       "    .dataframe tbody tr th {\n",
       "        vertical-align: top;\n",
       "    }\n",
       "\n",
       "    .dataframe thead th {\n",
       "        text-align: right;\n",
       "    }\n",
       "</style>\n",
       "<table border=\"1\" class=\"dataframe\">\n",
       "  <thead>\n",
       "    <tr style=\"text-align: right;\">\n",
       "      <th></th>\n",
       "      <th>Price</th>\n",
       "    </tr>\n",
       "    <tr>\n",
       "      <th>strike</th>\n",
       "      <th></th>\n",
       "    </tr>\n",
       "  </thead>\n",
       "  <tbody>\n",
       "    <tr>\n",
       "      <th>0</th>\n",
       "      <td>1.436233</td>\n",
       "    </tr>\n",
       "    <tr>\n",
       "      <th>25</th>\n",
       "      <td>1.039930</td>\n",
       "    </tr>\n",
       "    <tr>\n",
       "      <th>50</th>\n",
       "      <td>0.736354</td>\n",
       "    </tr>\n",
       "    <tr>\n",
       "      <th>100</th>\n",
       "      <td>0.355241</td>\n",
       "    </tr>\n",
       "    <tr>\n",
       "      <th>200</th>\n",
       "      <td>0.084682</td>\n",
       "    </tr>\n",
       "    <tr>\n",
       "      <th>-25</th>\n",
       "      <td>1.928323</td>\n",
       "    </tr>\n",
       "    <tr>\n",
       "      <th>-50</th>\n",
       "      <td>2.511258</td>\n",
       "    </tr>\n",
       "    <tr>\n",
       "      <th>-100</th>\n",
       "      <td>3.897171</td>\n",
       "    </tr>\n",
       "    <tr>\n",
       "      <th>-200</th>\n",
       "      <td>7.155525</td>\n",
       "    </tr>\n",
       "  </tbody>\n",
       "</table>\n",
       "</div>"
      ],
      "text/plain": [
       "           Price\n",
       "strike          \n",
       " 0      1.436233\n",
       " 25     1.039930\n",
       " 50     0.736354\n",
       " 100    0.355241\n",
       " 200    0.084682\n",
       "-25     1.928323\n",
       "-50     2.511258\n",
       "-100    3.897171\n",
       "-200    7.155525"
      ]
     },
     "execution_count": 119,
     "metadata": {},
     "output_type": "execute_result"
    }
   ],
   "source": [
    "swaption_df"
   ]
  },
  {
   "cell_type": "markdown",
   "id": "20e797fd",
   "metadata": {},
   "source": [
    "### 1.3"
   ]
  },
  {
   "cell_type": "code",
   "execution_count": 120,
   "id": "eb232426",
   "metadata": {},
   "outputs": [
    {
     "name": "stdout",
     "output_type": "stream",
     "text": [
      "Price of 3mo x 4Yr (ATM) Swaption: [0.74303627]\n"
     ]
    }
   ],
   "source": [
    "### 3mo x 4Yr Swaption\n",
    "\n",
    "swap_pay_dates = np.arange(0.5, 4.5, 0.25)\n",
    "discount_factor = sum([rates.loc[i, 'discounts'] for i in swap_pay_dates])\n",
    "forward_swap_rate = (rates.loc[0.25, 'discounts'] - rates.loc[4.25, 'discounts']) * 4 / discount_factor\n",
    "price = (100/4) * blacks_formula(T=0.25, vol=swap[0].values/100, strike = forward_swap_rate, fwd=forward_swap_rate, discount = discount_factor)\n",
    "print(f\"Price of 3mo x 4Yr (ATM) Swaption: {price}\")"
   ]
  },
  {
   "cell_type": "code",
   "execution_count": 121,
   "id": "ab742b91",
   "metadata": {},
   "outputs": [
    {
     "name": "stdout",
     "output_type": "stream",
     "text": [
      "Price of 2Yr x 4Yr (ATM) Swaption: [1.96746731]\n"
     ]
    }
   ],
   "source": [
    "### 2Yr x 4Yr Swaption\n",
    "\n",
    "swap_pay_dates = np.arange(2.25, 6.25, 0.25)\n",
    "discount_factor = sum([rates.loc[i, 'discounts'] for i in swap_pay_dates])\n",
    "forward_swap_rate = (rates.loc[2, 'discounts'] - rates.loc[6, 'discounts']) * 4 / discount_factor\n",
    "price = (100/4) * blacks_formula(T=2, vol=swap[0].values/100, strike = forward_swap_rate, fwd=forward_swap_rate, discount = discount_factor)\n",
    "print(f\"Price of 2Yr x 4Yr (ATM) Swaption: {price}\")"
   ]
  },
  {
   "cell_type": "code",
   "execution_count": 122,
   "id": "666ee3f3",
   "metadata": {},
   "outputs": [
    {
     "name": "stdout",
     "output_type": "stream",
     "text": [
      "Price of 1Yr x 2Yr (ATM) Swaption: [0.73798135]\n"
     ]
    }
   ],
   "source": [
    "### 1Yr x 2Yr Swaption\n",
    "\n",
    "swap_pay_dates = np.arange(1.25, 3.25, 0.25)\n",
    "discount_factor = sum([rates.loc[i, 'discounts'] for i in swap_pay_dates])\n",
    "forward_swap_rate = (rates.loc[1, 'discounts'] - rates.loc[3, 'discounts']) * 4 / discount_factor\n",
    "price = (100/4) * blacks_formula(T=1, vol=swap[0].values/100, strike = forward_swap_rate, fwd=forward_swap_rate, discount = discount_factor)\n",
    "print(f\"Price of 1Yr x 2Yr (ATM) Swaption: {price}\")"
   ]
  },
  {
   "cell_type": "markdown",
   "id": "201396ec",
   "metadata": {},
   "source": [
    "***"
   ]
  },
  {
   "cell_type": "markdown",
   "id": "c80b48bb",
   "metadata": {},
   "source": [
    "# 2. SABR Volatility Modeling"
   ]
  },
  {
   "cell_type": "markdown",
   "id": "bfb69565",
   "metadata": {},
   "source": [
    "Use the quoted volatility skew to fit a SABR model.\n",
    "* Throughout, parameterize, `beta=.75`."
   ]
  },
  {
   "cell_type": "code",
   "execution_count": 123,
   "id": "673de13a",
   "metadata": {},
   "outputs": [],
   "source": [
    "def sabr(beta,nu,rho,alpha,f,K,T):\n",
    "   \n",
    "    squareNUM = (((1-beta)**2)/24) * (alpha**2)/((f*K)**(1-beta)) + (1/4) * (rho*beta*nu*alpha)/((f*K)**((1-beta)/2))+((2-3*rho**2)/24)*nu**2\n",
    "    NUM = alpha * (1 + squareNUM * T)\n",
    "    squareDEN = 1 + (((1-beta)**2)/24) * (np.log(f/K)**2) + (((1-beta)**4)/1920) * (np.log(f/K)**4)\n",
    "    DEN = (f*K)**((1-beta)/2) * squareDEN\n",
    "    z = zfun(beta,nu,alpha,f,K)        \n",
    "    sigmaB = (NUM/DEN) * (z/chi(z,rho))\n",
    "    \n",
    "    if (type(K) is np.float64) | (type(K) is float):\n",
    "        if f==K:\n",
    "            sigmaB = sabrATM(beta,nu,rho,alpha,f,K,T)\n",
    "    else:\n",
    "        mask = f==K\n",
    "        sigmaB[mask] = sabrATM(beta,nu,rho,alpha,f,K[mask],T)\n",
    "        \n",
    "    return sigmaB\n",
    "\n",
    "def sabr_slim(beta,nu,rho,f,K,T,volATM):\n",
    "\n",
    "    alpha = solve_alpha(beta, nu, rho, T, volATM, f)\n",
    "    \n",
    "    squareNUM = (((1-beta)**2)/24) * (alpha**2)/((f*K)**(1-beta)) + (1/4) * (rho*beta*nu*alpha)/((f*K)**((1-beta)/2))+((2-3*rho**2)/24)*nu**2\n",
    "    NUM = alpha * (1 + squareNUM * T)\n",
    "    squareDEN = 1 + (((1-beta)**2)/24) * ((np.log(f/K))**2) + (((1-beta)**4)/1920) * ((np.log(f/K))**4)\n",
    "    DEN = (f*K)**((1-beta)/2) * squareDEN\n",
    "    z = zfun(beta,nu,alpha,f,K)\n",
    "    sigmaB = (NUM/DEN) * (z/chi(z,rho))\n",
    "        \n",
    "    if (type(K) is np.float64) | (type(K) is float):\n",
    "        if (f==K):\n",
    "            sigmaB = sabrATM(beta,nu,rho,alpha,f,K,T)\n",
    "    else:\n",
    "        mask = f==K\n",
    "        sigmaB[mask] = sabrATM(beta,nu,rho,alpha,f,K[mask],T)\n",
    "        \n",
    "    return sigmaB\n",
    "\n",
    "def solve_alpha(beta, nu, rho, T, volATM, f):\n",
    "    coefs = np.ones(4)\n",
    "    coefs[3] = (1-beta)**2 * T / (24*f**(2-2*beta))\n",
    "    coefs[2] = rho * beta * nu * T / (4*f**(1-beta))\n",
    "    coefs[1] = 1 + (2-3*rho**2) * nu**2 * T / 24\n",
    "    coefs[0] = -volATM * f**(1-beta)\n",
    "\n",
    "    roots = poly.polyroots(coefs)\n",
    "    alpha = np.real(roots[np.abs(np.imag(roots))<1e-6][0])\n",
    "    return alpha\n",
    "\n",
    "def zfun(beta, nu, alpha, f, K):\n",
    "    return (nu/alpha) * (f*K)**((1-beta)/2) * np.log(f/K)\n",
    "\n",
    "def chi(z, rho):\n",
    "    return np.log((np.sqrt(1-2*rho*z + z**2) + z - rho) / (1-rho))\n",
    "\n",
    "def sabrATM(beta,nu,rho,alpha,f,K,T):\n",
    "    brack = (((1-beta)**2)/24) * ((alpha**2)/(f**(2-2*beta))) + (rho * beta * nu * alpha)/(4*f**(1-beta)) + ((2-3*rho**2)/24) * nu**2\n",
    "    \n",
    "    sigma = alpha * (1+brack*T) / f**(1-beta)\n",
    "\n",
    "    return sigma"
   ]
  },
  {
   "cell_type": "code",
   "execution_count": 124,
   "id": "b456589e",
   "metadata": {},
   "outputs": [],
   "source": [
    "swap_pay_dates = np.arange(1.25, 5.25, 0.25)\n",
    "discount_factor = sum([rates.loc[i, 'discounts'] for i in swap_pay_dates])\n",
    "forward_swap_rate = (rates.loc[1, 'discounts'] - rates.loc[5, 'discounts']) * 4 / discount_factor\n",
    "expry = 1\n",
    "tenor = 4\n",
    "QUOTE_STYLE = 'black'\n",
    "DATE = '2025-01-31'\n",
    "SWAP_TYPE = 'SOFR'\n",
    "N = 100\n",
    "Topt = expry\n",
    "Tswap = Topt + tenor"
   ]
  },
  {
   "cell_type": "code",
   "execution_count": 125,
   "id": "a1728e56",
   "metadata": {},
   "outputs": [
    {
     "data": {
      "text/html": [
       "<style type=\"text/css\">\n",
       "</style>\n",
       "<table id=\"T_57daf\">\n",
       "  <thead>\n",
       "    <tr>\n",
       "      <th class=\"blank level0\" >&nbsp;</th>\n",
       "      <th id=\"T_57daf_level0_col0\" class=\"col_heading level0 col0\" >-200</th>\n",
       "      <th id=\"T_57daf_level0_col1\" class=\"col_heading level0 col1\" >-100</th>\n",
       "      <th id=\"T_57daf_level0_col2\" class=\"col_heading level0 col2\" >-50</th>\n",
       "      <th id=\"T_57daf_level0_col3\" class=\"col_heading level0 col3\" >-25</th>\n",
       "      <th id=\"T_57daf_level0_col4\" class=\"col_heading level0 col4\" >0</th>\n",
       "      <th id=\"T_57daf_level0_col5\" class=\"col_heading level0 col5\" >25</th>\n",
       "      <th id=\"T_57daf_level0_col6\" class=\"col_heading level0 col6\" >50</th>\n",
       "      <th id=\"T_57daf_level0_col7\" class=\"col_heading level0 col7\" >100</th>\n",
       "      <th id=\"T_57daf_level0_col8\" class=\"col_heading level0 col8\" >200</th>\n",
       "    </tr>\n",
       "  </thead>\n",
       "  <tbody>\n",
       "    <tr>\n",
       "      <th id=\"T_57daf_level0_row0\" class=\"row_heading level0 row0\" >strike</th>\n",
       "      <td id=\"T_57daf_row0_col0\" class=\"data row0 col0\" >0.0194</td>\n",
       "      <td id=\"T_57daf_row0_col1\" class=\"data row0 col1\" >0.0294</td>\n",
       "      <td id=\"T_57daf_row0_col2\" class=\"data row0 col2\" >0.0344</td>\n",
       "      <td id=\"T_57daf_row0_col3\" class=\"data row0 col3\" >0.0369</td>\n",
       "      <td id=\"T_57daf_row0_col4\" class=\"data row0 col4\" >0.0394</td>\n",
       "      <td id=\"T_57daf_row0_col5\" class=\"data row0 col5\" >0.0419</td>\n",
       "      <td id=\"T_57daf_row0_col6\" class=\"data row0 col6\" >0.0444</td>\n",
       "      <td id=\"T_57daf_row0_col7\" class=\"data row0 col7\" >0.0494</td>\n",
       "      <td id=\"T_57daf_row0_col8\" class=\"data row0 col8\" >0.0594</td>\n",
       "    </tr>\n",
       "    <tr>\n",
       "      <th id=\"T_57daf_level0_row1\" class=\"row_heading level0 row1\" >implied vol</th>\n",
       "      <td id=\"T_57daf_row1_col0\" class=\"data row1 col0\" >0.4213</td>\n",
       "      <td id=\"T_57daf_row1_col1\" class=\"data row1 col1\" >0.3151</td>\n",
       "      <td id=\"T_57daf_row1_col2\" class=\"data row1 col2\" >0.2815</td>\n",
       "      <td id=\"T_57daf_row1_col3\" class=\"data row1 col3\" >0.2689</td>\n",
       "      <td id=\"T_57daf_row1_col4\" class=\"data row1 col4\" >0.2590</td>\n",
       "      <td id=\"T_57daf_row1_col5\" class=\"data row1 col5\" >0.2516</td>\n",
       "      <td id=\"T_57daf_row1_col6\" class=\"data row1 col6\" >0.2466</td>\n",
       "      <td id=\"T_57daf_row1_col7\" class=\"data row1 col7\" >0.2423</td>\n",
       "      <td id=\"T_57daf_row1_col8\" class=\"data row1 col8\" >0.2473</td>\n",
       "    </tr>\n",
       "    <tr>\n",
       "      <th id=\"T_57daf_level0_row2\" class=\"row_heading level0 row2\" >price</th>\n",
       "      <td id=\"T_57daf_row2_col0\" class=\"data row2 col0\" >7.1555</td>\n",
       "      <td id=\"T_57daf_row2_col1\" class=\"data row2 col1\" >3.8972</td>\n",
       "      <td id=\"T_57daf_row2_col2\" class=\"data row2 col2\" >2.5113</td>\n",
       "      <td id=\"T_57daf_row2_col3\" class=\"data row2 col3\" >1.9283</td>\n",
       "      <td id=\"T_57daf_row2_col4\" class=\"data row2 col4\" >1.4362</td>\n",
       "      <td id=\"T_57daf_row2_col5\" class=\"data row2 col5\" >1.0399</td>\n",
       "      <td id=\"T_57daf_row2_col6\" class=\"data row2 col6\" >0.7364</td>\n",
       "      <td id=\"T_57daf_row2_col7\" class=\"data row2 col7\" >0.3552</td>\n",
       "      <td id=\"T_57daf_row2_col8\" class=\"data row2 col8\" >0.0847</td>\n",
       "    </tr>\n",
       "  </tbody>\n",
       "</table>\n"
      ],
      "text/plain": [
       "<pandas.io.formats.style.Styler at 0x22323a44680>"
      ]
     },
     "execution_count": 125,
     "metadata": {},
     "output_type": "execute_result"
    }
   ],
   "source": [
    "voldata = pd.read_excel('../data/swaption_vol_data_2025-01-31.xlsx')\n",
    "volquote = voldata.query(f'model==\"{QUOTE_STYLE}\"').query(f'reference==\"{SWAP_TYPE}\"').query(f'date==\"{DATE}\"')\n",
    "idx = (volquote['expiration']==expry) & (volquote['tenor']==tenor)\n",
    "volquote = volquote.loc[idx]\n",
    "volquote.index = ['implied vol']\n",
    "\n",
    "strikerange = np.array(volquote.columns[-9:].tolist())\n",
    "vols = volquote[strikerange]\n",
    "vols /= 100\n",
    "strikes = forward_swap_rate + strikerange/100/100\n",
    "idstrike = np.where(strikerange==0)[0][0]\n",
    "\n",
    "idstrikeATM = np.where(strikerange==0)[0][0]\n",
    "strikeATM = strikes[idstrikeATM]\n",
    "volATM = vols.iloc[0,idstrikeATM]\n",
    "\n",
    "period_fwd = rates.index.get_loc(Topt)\n",
    "period_swap = rates.index.get_loc(Tswap)+1\n",
    "step = 1\n",
    "\n",
    "discount = rates['discounts'].iloc[period_fwd+step : period_swap : step].sum()/4\n",
    "blacks_quotes = vols.copy()\n",
    "blacks_quotes.loc['price'] = N * blacks_formula(Topt,vols,strikes,forward_swap_rate,discount)[0]\n",
    "blacks_quotes.loc['strike'] = strikes\n",
    "blacks_quotes = blacks_quotes.loc[['strike','implied vol','price']]\n",
    "\n",
    "blacks_quotes.style.format('{:.4f}')"
   ]
  },
  {
   "cell_type": "markdown",
   "id": "7259f005",
   "metadata": {},
   "source": [
    "### 2.1.\n",
    "Estimate $(\\alpha,\\rho,\\nu)$ via the SABR formula. Feel free to use the `sabr` function in `cmds/volskew.py`.\n",
    "\n",
    "Report the values of these parameters."
   ]
  },
  {
   "cell_type": "code",
   "execution_count": 126,
   "id": "4e67604c",
   "metadata": {},
   "outputs": [],
   "source": [
    "def obj_fun(xargs):\n",
    "    nu = xargs[0]\n",
    "    rho = xargs[1]\n",
    "    alpha = xargs[2]\n",
    "    \n",
    "    ivolSABR = np.zeros(len(strikes))\n",
    "    \n",
    "    for i,strike in enumerate(strikes):\n",
    "         ivolSABR[i] = sabr(BETA,nu,rho,alpha,F,strike,Topt)\n",
    "    \n",
    "    error = ((ivolSABR - vols.values)**2).sum()\n",
    "    \n",
    "    return error\n",
    "\n",
    "\n",
    "def obj_fun_slim(xargs):\n",
    "    nu = xargs[0]\n",
    "    rho = xargs[1]\n",
    "    ivolSABR = np.zeros(len(strikes))\n",
    "    \n",
    "    for i,strike in enumerate(strikes):\n",
    "         ivolSABR[i] = sabr_slim(BETA,nu,rho,F,strike,Topt,volATM)\n",
    "    \n",
    "    error = ((ivolSABR - vols.values)**2).sum()\n",
    "    \n",
    "    return error"
   ]
  },
  {
   "cell_type": "code",
   "execution_count": 127,
   "id": "9f92c3a9",
   "metadata": {},
   "outputs": [],
   "source": [
    "doSLIM = False\n",
    "BETA = 0.75\n",
    "F = forward_swap_rate-1e-8"
   ]
  },
  {
   "cell_type": "code",
   "execution_count": 128,
   "id": "3fa225b6",
   "metadata": {},
   "outputs": [],
   "source": [
    "if not doSLIM:\n",
    "    x0 = np.array([.6,0,.1])\n",
    "    fun = obj_fun\n",
    "else:\n",
    "    fun = obj_fun_slim\n",
    "    x0 = np.array([.6,0,.1])\n",
    "\n",
    "optim = minimize(fun,x0)\n",
    "xstar = optim.x\n",
    "nustar = xstar[0]\n",
    "rhostar = xstar[1]\n",
    "   \n",
    "if doSLIM:\n",
    "    alphastar = solve_alpha(BETA,nustar,rhostar,Topt,volATM,F)\n",
    "    ivolSABR = sabr_slim(BETA,nustar,rhostar,F,strikes,Topt,volATM)\n",
    "else:\n",
    "    alphastar = xstar[2]\n",
    "    ivolSABR = sabr(BETA,nustar,rhostar,alphastar,F,strikes,Topt)\n",
    "    \n",
    "error = optim.fun"
   ]
  },
  {
   "cell_type": "code",
   "execution_count": 129,
   "id": "938b4e04",
   "metadata": {},
   "outputs": [
    {
     "data": {
      "text/html": [
       "<style type=\"text/css\">\n",
       "</style>\n",
       "<table id=\"T_373a2\">\n",
       "  <thead>\n",
       "    <tr>\n",
       "      <th class=\"blank level0\" >&nbsp;</th>\n",
       "      <th id=\"T_373a2_level0_col0\" class=\"col_heading level0 col0\" >SABR Parameters</th>\n",
       "    </tr>\n",
       "  </thead>\n",
       "  <tbody>\n",
       "    <tr>\n",
       "      <th id=\"T_373a2_level0_row0\" class=\"row_heading level0 row0\" >beta</th>\n",
       "      <td id=\"T_373a2_row0_col0\" class=\"data row0 col0\" >0.7500</td>\n",
       "    </tr>\n",
       "    <tr>\n",
       "      <th id=\"T_373a2_level0_row1\" class=\"row_heading level0 row1\" >alpha</th>\n",
       "      <td id=\"T_373a2_row1_col0\" class=\"data row1 col0\" >0.1128</td>\n",
       "    </tr>\n",
       "    <tr>\n",
       "      <th id=\"T_373a2_level0_row2\" class=\"row_heading level0 row2\" >nu</th>\n",
       "      <td id=\"T_373a2_row2_col0\" class=\"data row2 col0\" >0.6914</td>\n",
       "    </tr>\n",
       "    <tr>\n",
       "      <th id=\"T_373a2_level0_row3\" class=\"row_heading level0 row3\" >rho</th>\n",
       "      <td id=\"T_373a2_row3_col0\" class=\"data row3 col0\" >-0.3448</td>\n",
       "    </tr>\n",
       "    <tr>\n",
       "      <th id=\"T_373a2_level0_row4\" class=\"row_heading level0 row4\" >fit error</th>\n",
       "      <td id=\"T_373a2_row4_col0\" class=\"data row4 col0\" >0.0000</td>\n",
       "    </tr>\n",
       "  </tbody>\n",
       "</table>\n"
      ],
      "text/plain": [
       "<pandas.io.formats.style.Styler at 0x22322f54c80>"
      ]
     },
     "execution_count": 129,
     "metadata": {},
     "output_type": "execute_result"
    }
   ],
   "source": [
    "param = pd.DataFrame([BETA,alphastar,nustar,rhostar,error],index=['beta','alpha','nu','rho','fit error'],columns=['SABR Parameters']).style.format('{:.4f}')\n",
    "param"
   ]
  },
  {
   "cell_type": "markdown",
   "id": "f28d54c7",
   "metadata": {},
   "source": [
    "### 2.2.\n",
    "Create a grid of strikes of `[.0025, .09]`, with grid spacing of `10bps`, (.0010).\n",
    "\n",
    "Use the SABR model parameterized above to calculate the volatility for each of these strikes.\n",
    "\n",
    "* Plot the SABR curve, and also include the market quotes in the plot.\n",
    "\n",
    "* Conceptually, does the SABR curve fit these points well? Perfectly?"
   ]
  },
  {
   "cell_type": "code",
   "execution_count": 130,
   "id": "c0a666be",
   "metadata": {},
   "outputs": [
    {
     "data": {
      "image/png": "[encoded data removed]",
      "text/plain": [
       "<Figure size 640x480 with 1 Axes>"
      ]
     },
     "metadata": {},
     "output_type": "display_data"
    }
   ],
   "source": [
    "strikegrid = np.arange(.0025,.09,.0005)\n",
    "if doSLIM:\n",
    "    ivolgrid = sabr_slim(BETA,nustar,rhostar,F,strikegrid,Topt,volATM)\n",
    "else:\n",
    "    ivolgrid = sabr(BETA,nustar,rhostar,alphastar,F,strikegrid,Topt)\n",
    "    \n",
    "sabrcurve = pd.DataFrame(ivolgrid,index=strikegrid,columns=['SABR'])\n",
    "\n",
    "volquotes = vols.copy()\n",
    "volquotes.loc['strike'] = strikes\n",
    "volquotes = volquotes.T.set_index('strike').rename(columns={'implied vol':'market quotes'})\n",
    "\n",
    "fig, ax = plt.subplots()\n",
    "sabrcurve.plot(ax=ax)\n",
    "volquotes.plot(linestyle='', marker='o', markersize=8, ax=ax)\n",
    "\n",
    "ax.set_xlabel(\"Strike\")\n",
    "ax.set_ylabel(\"Implied Volatility\")\n",
    "ax.set_title(\"SABR Model vs Market Quotes\")\n",
    "\n",
    "plt.legend()\n",
    "plt.show()"
   ]
  },
  {
   "cell_type": "markdown",
   "id": "01d07244",
   "metadata": {},
   "source": [
    "**Yes, our SABR curve fit these points perfectly. As shown in 2.1, our fit error was zero. This is reflected in our graph, where the market quotes are all on the curve.**"
   ]
  },
  {
   "cell_type": "markdown",
   "id": "8db71caf",
   "metadata": {},
   "source": [
    "### 2.3.\n",
    "Suppose we want to price the `1y4y` swaption but with a far out-of-the-money strike of `5%`. \n",
    "\n",
    "* Use the SABR vol at this strike to price the swaption.\n",
    "\n",
    "(Note that this strike is far outside the range for which we have market quotes, and even if we do have quotes, they likely are not liquid on a given day.)\n",
    "\n"
   ]
  },
  {
   "cell_type": "code",
   "execution_count": 131,
   "id": "2462b164",
   "metadata": {},
   "outputs": [
    {
     "data": {
      "text/plain": [
       "'Price of the OTM swaption at strike 5.00% is $0.3179.'"
      ]
     },
     "metadata": {},
     "output_type": "display_data"
    }
   ],
   "source": [
    "NEWSTRIKE = .05\n",
    "\n",
    "if doSLIM:\n",
    "    newvol = sabr_slim(BETA,nustar,rhostar,F,NEWSTRIKE,Topt,volATM)\n",
    "else:\n",
    "    newvol = sabr(BETA,nustar,rhostar,alphastar,F,NEWSTRIKE,Topt)\n",
    "\n",
    "newprice = N * blacks_formula(Topt,newvol,NEWSTRIKE,forward_swap_rate,discount)\n",
    "display(f'Price of the OTM swaption at strike {NEWSTRIKE:.2%} is ${newprice:.4f}.')"
   ]
  },
  {
   "cell_type": "markdown",
   "id": "6ba6d8e7",
   "metadata": {},
   "source": [
    "### 2.4.\n",
    "\n",
    "Use the ATM implied volatility to fit $\\alpha$, (sometimes denoted $\\sigma_0$.) That is, for any choice of $(\\rho,\\nu)$, solve a quadratic equation to get $\\alpha$ as a function of those two parameters, along with $\\beta$, which is at its selected (not estimated) value.\n",
    "\n",
    "Recall that we have a simple relationship between ATM vol and $\\alpha$.\n",
    "$$\\sigma_\\text{ATM} = \\alpha\\frac{B}{F^{1-\\beta}}$$\n",
    "where $B$ is defined in the discussion note. It is a quadratic expression of $\\alpha$ along with $(\\beta,\\rho,\\nu)$.\n",
    "\n",
    "This decouples the optimization. We solve for $(\\rho,\\nu)$ and $\\alpha$ as a function of the other two parameters.\n",
    "\n",
    "Consider using the function `sabrATM` in `cmds/volskew.py`."
   ]
  },
  {
   "cell_type": "code",
   "execution_count": 132,
   "id": "dddf398b",
   "metadata": {},
   "outputs": [
    {
     "data": {
      "text/html": [
       "<style type=\"text/css\">\n",
       "</style>\n",
       "<table id=\"T_21db8\">\n",
       "  <thead>\n",
       "    <tr>\n",
       "      <th class=\"blank level0\" >&nbsp;</th>\n",
       "      <th id=\"T_21db8_level0_col0\" class=\"col_heading level0 col0\" >SABR Parameters</th>\n",
       "    </tr>\n",
       "  </thead>\n",
       "  <tbody>\n",
       "    <tr>\n",
       "      <th id=\"T_21db8_level0_row0\" class=\"row_heading level0 row0\" >beta</th>\n",
       "      <td id=\"T_21db8_row0_col0\" class=\"data row0 col0\" >0.7500</td>\n",
       "    </tr>\n",
       "    <tr>\n",
       "      <th id=\"T_21db8_level0_row1\" class=\"row_heading level0 row1\" >alpha</th>\n",
       "      <td id=\"T_21db8_row1_col0\" class=\"data row1 col0\" >0.1130</td>\n",
       "    </tr>\n",
       "    <tr>\n",
       "      <th id=\"T_21db8_level0_row2\" class=\"row_heading level0 row2\" >nu</th>\n",
       "      <td id=\"T_21db8_row2_col0\" class=\"data row2 col0\" >0.6881</td>\n",
       "    </tr>\n",
       "    <tr>\n",
       "      <th id=\"T_21db8_level0_row3\" class=\"row_heading level0 row3\" >rho</th>\n",
       "      <td id=\"T_21db8_row3_col0\" class=\"data row3 col0\" >-0.3465</td>\n",
       "    </tr>\n",
       "    <tr>\n",
       "      <th id=\"T_21db8_level0_row4\" class=\"row_heading level0 row4\" >fit error</th>\n",
       "      <td id=\"T_21db8_row4_col0\" class=\"data row4 col0\" >0.0000</td>\n",
       "    </tr>\n",
       "  </tbody>\n",
       "</table>\n"
      ],
      "text/plain": [
       "<pandas.io.formats.style.Styler at 0x22323077410>"
      ]
     },
     "execution_count": 132,
     "metadata": {},
     "output_type": "execute_result"
    }
   ],
   "source": [
    "doSLIM = True\n",
    "if not doSLIM:\n",
    "    x0 = np.array([.6,0,.1])\n",
    "    fun = obj_fun\n",
    "else:\n",
    "    fun = obj_fun_slim\n",
    "    x0 = np.array([.6,0,.1])\n",
    "\n",
    "optim = minimize(fun,x0)\n",
    "xstar = optim.x\n",
    "nustar = xstar[0]\n",
    "rhostar = xstar[1]\n",
    "   \n",
    "if doSLIM:\n",
    "    alphastar = solve_alpha(BETA,nustar,rhostar,Topt,volATM,F)\n",
    "    ivolSABR = sabr_slim(BETA,nustar,rhostar,F,strikes,Topt,volATM)\n",
    "else:\n",
    "    alphastar = xstar[2]\n",
    "    ivolSABR = sabr(BETA,nustar,rhostar,alphastar,F,strikes,Topt)\n",
    "    \n",
    "error = optim.fun\n",
    "param = pd.DataFrame([BETA,alphastar,nustar,rhostar,error],index=['beta','alpha','nu','rho','fit error'],columns=['SABR Parameters']).style.format('{:.4f}')\n",
    "param"
   ]
  },
  {
   "cell_type": "markdown",
   "id": "f9478c65",
   "metadata": {},
   "source": [
    "***"
   ]
  },
  {
   "cell_type": "markdown",
   "id": "4b650a96",
   "metadata": {},
   "source": [
    "# 3. SABR and Risk Management"
   ]
  },
  {
   "cell_type": "markdown",
   "id": "dbb8cbb1",
   "metadata": {},
   "source": [
    "Consider how an **increase** of `50bps` in the underlying rate impacts the price of the `1y4y` ATM swaption.\n",
    "\n",
    "Here, we are assuming that\n",
    "* the rate change will impact the forward swap rate directly, one-for-one with other rates.\n",
    "* the shift happens one week after the original quote date.\n",
    "\n",
    "Of course, in reality, a rate change\n",
    "* may price in early to some degree if it is expected\n",
    "* may not impact the forward swap rate one-for-one. We would need to model how the discount curve changes and what that change (level, slope, curvature?) would do to the forward swap rate."
   ]
  },
  {
   "cell_type": "markdown",
   "id": "047fb430",
   "metadata": {},
   "source": [
    "### 3.1\n",
    "\n",
    "Use Black's equation to re-price the `1y4y` swaption with\n",
    "* the same ATM volatility\n",
    "* an underlying (forward swap) rate `increased` `50bps`.\n",
    "* the same time-to-maturities. (We should decrease these all by 1/365, but we focus here on the delta effects rather than the theta. And it would be a small impact anyone.)\n",
    "\n",
    "Report \n",
    "* the new price\n",
    "* the change in price divided by `50bps`, (a numerical delta.)"
   ]
  },
  {
   "cell_type": "code",
   "execution_count": 133,
   "id": "7c48b65f",
   "metadata": {},
   "outputs": [],
   "source": [
    "warnings.filterwarnings('ignore')\n",
    "\n",
    "SHIFT = 50/100/100\n",
    "\n",
    "\n",
    "sabrcurve.rename(columns={'SABR':f'SABR: underlying at {DATE}'},inplace=True)\n",
    "if doSLIM:\n",
    "    sabrcurve[f'SABR: underlying + {SHIFT*100*100:.0f}bps'] = sabr_slim(BETA,nustar,rhostar,F+SHIFT,strikegrid,Topt,volATM)\n",
    "else:\n",
    "    sabrcurve[f'SABR: underlying + {SHIFT*100*100:.0f}bps'] = sabr(BETA,nustar,rhostar,alphastar,F+SHIFT,strikegrid,Topt)"
   ]
  },
  {
   "cell_type": "code",
   "execution_count": 134,
   "id": "4eb45b24",
   "metadata": {},
   "outputs": [],
   "source": [
    "idloc = (sabrcurve.index.to_series()-forward_swap_rate).abs().idxmin()\n",
    "\n",
    "newvols = sabrcurve.loc[idloc]\n",
    "strikeATM = strikes[idstrikeATM]\n",
    "Frange = F + [0,SHIFT]"
   ]
  },
  {
   "cell_type": "code",
   "execution_count": 135,
   "id": "b166cc54",
   "metadata": {},
   "outputs": [
    {
     "data": {
      "text/html": [
       "<style type=\"text/css\">\n",
       "</style>\n",
       "<table id=\"T_c12ac\">\n",
       "  <thead>\n",
       "    <tr>\n",
       "      <th class=\"blank level0\" >&nbsp;</th>\n",
       "      <th id=\"T_c12ac_level0_col0\" class=\"col_heading level0 col0\" >no change in rates</th>\n",
       "      <th id=\"T_c12ac_level0_col1\" class=\"col_heading level0 col1\" >shift in rates</th>\n",
       "    </tr>\n",
       "  </thead>\n",
       "  <tbody>\n",
       "    <tr>\n",
       "      <th id=\"T_c12ac_level0_row0\" class=\"row_heading level0 row0\" >no change in vol</th>\n",
       "      <td id=\"T_c12ac_row0_col0\" class=\"data row0 col0\" >1.43</td>\n",
       "      <td id=\"T_c12ac_row0_col1\" class=\"data row0 col1\" >2.57</td>\n",
       "    </tr>\n",
       "    <tr>\n",
       "      <th id=\"T_c12ac_level0_row1\" class=\"row_heading level0 row1\" >dynamic vol</th>\n",
       "      <td id=\"T_c12ac_row1_col0\" class=\"data row1 col0\" >nan</td>\n",
       "      <td id=\"T_c12ac_row1_col1\" class=\"data row1 col1\" >2.68</td>\n",
       "    </tr>\n",
       "  </tbody>\n",
       "</table>\n"
      ],
      "text/plain": [
       "<pandas.io.formats.style.Styler at 0x22325e820f0>"
      ]
     },
     "execution_count": 135,
     "metadata": {},
     "output_type": "execute_result"
    }
   ],
   "source": [
    "period_fwd = rates.index.get_loc(Topt)\n",
    "period_swap = rates.index.get_loc(Tswap)+1\n",
    "step = 1\n",
    "\n",
    "discount = rates['discounts'].iloc[period_fwd+step : period_swap : step].sum()/4\n",
    "\n",
    "blackprices = pd.Series(N * blacks_formula(Topt, newvols[0],strikeATM,Frange,discount), index=['no change in rates','shift in rates'], name='no change in vol').to_frame().T\n",
    "blackprices.loc['dynamic vol','shift in rates'] = N * blacks_formula(Topt, newvols[1],strikeATM,Frange[1],discount)\n",
    "blackprices.style.format('{:.2f}')"
   ]
  },
  {
   "cell_type": "code",
   "execution_count": 136,
   "id": "1f06dc6b",
   "metadata": {},
   "outputs": [
    {
     "data": {
      "text/html": [
       "<style type=\"text/css\">\n",
       "</style>\n",
       "<table id=\"T_9d91e\">\n",
       "  <thead>\n",
       "    <tr>\n",
       "      <th class=\"blank level0\" >&nbsp;</th>\n",
       "      <th id=\"T_9d91e_level0_col0\" class=\"col_heading level0 col0\" >delta</th>\n",
       "    </tr>\n",
       "  </thead>\n",
       "  <tbody>\n",
       "    <tr>\n",
       "      <th id=\"T_9d91e_level0_row0\" class=\"row_heading level0 row0\" >no change in vol</th>\n",
       "      <td id=\"T_9d91e_row0_col0\" class=\"data row0 col0\" >226.97</td>\n",
       "    </tr>\n",
       "  </tbody>\n",
       "</table>\n"
      ],
      "text/plain": [
       "<pandas.io.formats.style.Styler at 0x223240f2d80>"
      ]
     },
     "execution_count": 136,
     "metadata": {},
     "output_type": "execute_result"
    }
   ],
   "source": [
    "dprices = (blackprices[['shift in rates']] - blackprices.loc['no change in vol','no change in rates']).rename(columns={'shift in rates':'delta'})\n",
    "delta = dprices / SHIFT\n",
    "delta.iloc[[0]].style.format('{:.2f}')"
   ]
  },
  {
   "cell_type": "markdown",
   "id": "0d296068",
   "metadata": {},
   "source": [
    "### 3.2\n",
    "\n",
    "Now, we consider how the volatility may change with the underlying shift `up` of `50bps`.\n",
    "\n",
    "Using the same SABR parameters from `2.1`, and the strike grid from `2.2`, plot the new SABR curve accounting for the underlying rate shifting `up` `50bps`."
   ]
  },
  {
   "cell_type": "code",
   "execution_count": 137,
   "id": "b41d8e1f",
   "metadata": {},
   "outputs": [
    {
     "data": {
      "text/plain": [
       "<matplotlib.legend.Legend at 0x223240fff20>"
      ]
     },
     "execution_count": 137,
     "metadata": {},
     "output_type": "execute_result"
    },
    {
     "data": {
      "image/png": "[encoded data removed]",
      "text/plain": [
       "<Figure size 640x480 with 1 Axes>"
      ]
     },
     "metadata": {},
     "output_type": "display_data"
    }
   ],
   "source": [
    "fig, ax = plt.subplots()\n",
    "sabrcurve.plot(ax=ax)\n",
    "plt.xlim([F-.01,F+.01])\n",
    "plt.ylim([volATM-.05,volATM+.05])\n",
    "plt.axvline(F,color='k',linestyle='--',label=f'underlying at {DATE}')\n",
    "plt.axvline(F+SHIFT,color='k',linestyle=':',label=f'underlying + {SHIFT*100*100:.0f}bps')\n",
    "plt.xlabel('Strike', fontsize=12)\n",
    "plt.ylabel('Swaption Implied Volatility', fontsize=12)\n",
    "plt.title('SABR Model - Impact of Underlying Shift on Volatility', fontsize=14)\n",
    "plt.legend()"
   ]
  },
  {
   "cell_type": "markdown",
   "id": "2fcda8b9",
   "metadata": {},
   "source": [
    "### 3.3\n",
    "\n",
    "Calculate the new volatility specifically for the pre-shift ATM strike.\n",
    "\n",
    "Use this in Black's formula similar to `3.1`, where the only change is the volatility now reflects the shift in the underlying (not the strike).\n",
    "\n",
    "Report\n",
    "* the new price\n",
    "* the change in price divided by `50bps`"
   ]
  },
  {
   "cell_type": "code",
   "execution_count": 138,
   "id": "ce66eaa0",
   "metadata": {},
   "outputs": [
    {
     "data": {
      "text/html": [
       "<style type=\"text/css\">\n",
       "</style>\n",
       "<table id=\"T_83aa3\">\n",
       "  <thead>\n",
       "    <tr>\n",
       "      <th class=\"blank level0\" >&nbsp;</th>\n",
       "      <th id=\"T_83aa3_level0_col0\" class=\"col_heading level0 col0\" >no change in rates</th>\n",
       "      <th id=\"T_83aa3_level0_col1\" class=\"col_heading level0 col1\" >shift in rates</th>\n",
       "    </tr>\n",
       "  </thead>\n",
       "  <tbody>\n",
       "    <tr>\n",
       "      <th id=\"T_83aa3_level0_row0\" class=\"row_heading level0 row0\" >no change in vol</th>\n",
       "      <td id=\"T_83aa3_row0_col0\" class=\"data row0 col0\" >1.43</td>\n",
       "      <td id=\"T_83aa3_row0_col1\" class=\"data row0 col1\" >2.57</td>\n",
       "    </tr>\n",
       "    <tr>\n",
       "      <th id=\"T_83aa3_level0_row1\" class=\"row_heading level0 row1\" >dynamic vol</th>\n",
       "      <td id=\"T_83aa3_row1_col0\" class=\"data row1 col0\" >nan</td>\n",
       "      <td id=\"T_83aa3_row1_col1\" class=\"data row1 col1\" >2.68</td>\n",
       "    </tr>\n",
       "  </tbody>\n",
       "</table>\n"
      ],
      "text/plain": [
       "<pandas.io.formats.style.Styler at 0x22325f46a80>"
      ]
     },
     "execution_count": 138,
     "metadata": {},
     "output_type": "execute_result"
    }
   ],
   "source": [
    "blackprices.style.format('{:.2f}')"
   ]
  },
  {
   "cell_type": "markdown",
   "id": "b1210951",
   "metadata": {},
   "source": [
    "### 3.4\n",
    "\n",
    "How much different is the (dynamic) delta which accounts for the shift in volatility from the (static) delta in `3.1`?"
   ]
  },
  {
   "cell_type": "code",
   "execution_count": 139,
   "id": "bfce4e81",
   "metadata": {},
   "outputs": [
    {
     "data": {
      "text/html": [
       "<style type=\"text/css\">\n",
       "</style>\n",
       "<table id=\"T_ea2a6\">\n",
       "  <thead>\n",
       "    <tr>\n",
       "      <th class=\"blank level0\" >&nbsp;</th>\n",
       "      <th id=\"T_ea2a6_level0_col0\" class=\"col_heading level0 col0\" >delta</th>\n",
       "    </tr>\n",
       "  </thead>\n",
       "  <tbody>\n",
       "    <tr>\n",
       "      <th id=\"T_ea2a6_level0_row0\" class=\"row_heading level0 row0\" >no change in vol</th>\n",
       "      <td id=\"T_ea2a6_row0_col0\" class=\"data row0 col0\" >226.97</td>\n",
       "    </tr>\n",
       "    <tr>\n",
       "      <th id=\"T_ea2a6_level0_row1\" class=\"row_heading level0 row1\" >dynamic vol</th>\n",
       "      <td id=\"T_ea2a6_row1_col0\" class=\"data row1 col0\" >250.07</td>\n",
       "    </tr>\n",
       "  </tbody>\n",
       "</table>\n"
      ],
      "text/plain": [
       "<pandas.io.formats.style.Styler at 0x223240fb3e0>"
      ]
     },
     "execution_count": 139,
     "metadata": {},
     "output_type": "execute_result"
    }
   ],
   "source": [
    "delta.style.format('{:.2f}')"
   ]
  },
  {
   "cell_type": "code",
   "execution_count": 140,
   "id": "110ca7e9",
   "metadata": {},
   "outputs": [
    {
     "data": {
      "text/plain": [
       "'Relative change to delta:  10.18%.'"
      ]
     },
     "metadata": {},
     "output_type": "display_data"
    }
   ],
   "source": [
    "delta_relative_change = delta.pct_change().loc['dynamic vol','delta']\n",
    "display(f'Relative change to delta: {delta_relative_change : .2%}.')"
   ]
  },
  {
   "cell_type": "markdown",
   "id": "ba259807",
   "metadata": {},
   "source": [
    "***"
   ]
  }
 ],
 "metadata": {
  "hide_input": true,
  "kernelspec": {
   "display_name": "base",
   "language": "python",
   "name": "python3"
  },
  "language_info": {
   "codemirror_mode": {
    "name": "ipython",
    "version": 3
   },
   "file_extension": ".py",
   "mimetype": "text/x-python",
   "name": "python",
   "nbconvert_exporter": "python",
   "pygments_lexer": "ipython3",
   "version": "3.12.4"
  }
 },
 "nbformat": 4,
 "nbformat_minor": 5
}
