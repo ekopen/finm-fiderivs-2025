{
 "cells": [
  {
   "cell_type": "markdown",
   "metadata": {},
   "source": [
    "# Homework 1\n",
    "\n",
    "## FINM 37500: Fixed Income Derivatives\n",
    "\n",
    "### Mark Hendricks\n",
    "\n",
    "#### Winter 2025"
   ]
  },
  {
   "cell_type": "markdown",
   "metadata": {},
   "source": [
    "***"
   ]
  },
  {
   "cell_type": "markdown",
   "metadata": {},
   "source": [
    "# 1. Pricing the Callable Bond"
   ]
  },
  {
   "cell_type": "markdown",
   "metadata": {},
   "source": [
    "### Data\n",
    "\n",
    "Use the data from the following files.\n",
    "* `../data/callable_bonds_2025-02-13.xlsx`\n",
    "* `../data/discount_curve_2025-02-13.xlsx`"
   ]
  },
  {
   "cell_type": "markdown",
   "metadata": {},
   "source": [
    "The data contains info on the following bonds.\n",
    "\n",
    "`Callable`\n",
    "* `FHLMC 4.41 01/28/30` is a callable bond, and it is the primary object of our analysis.\n",
    "\n",
    "`Reference` bonds for a forward price.\n",
    "* `FHLMC 0.97 01/28/28`\n",
    "* `FHLMC 1.25 01/29/30`\n",
    "\n",
    "Though these are technically callable, they are far out of the money. Thus, for the purposes of this analysis, we consider the reference bonds as non-callable bonds.\n",
    "\n",
    "These reference bonds are analyzed in optional problems at the end, but mostly you will focus on the `callable` bond."
   ]
  },
  {
   "cell_type": "code",
   "execution_count": 72,
   "metadata": {},
   "outputs": [],
   "source": [
    "FILE_BOND = '../data/callable_bonds_2025-02-13.xlsx'\n",
    "FILE_CURVE = '../data/discount_curve_2025-02-13.xlsx'\n",
    "\n",
    "KEY_CALLABLE = 'FHLMC 4.41 01/28/30'\n",
    "KEY_REF_T1 = 'FHLMC 0.97 01/28/28'\n",
    "KEY_REF_T2 = 'FHLMC 1 1/4 01/29/30'"
   ]
  },
  {
   "cell_type": "markdown",
   "metadata": {},
   "source": [
    "### Bond Info"
   ]
  },
  {
   "cell_type": "code",
   "execution_count": 73,
   "metadata": {},
   "outputs": [
    {
     "data": {
      "text/html": [
       "<style type=\"text/css\">\n",
       "</style>\n",
       "<table id=\"T_7d357\">\n",
       "  <thead>\n",
       "    <tr>\n",
       "      <th class=\"blank level0\" >&nbsp;</th>\n",
       "      <th id=\"T_7d357_level0_col0\" class=\"col_heading level0 col0\" >FHLMC 0.97 01/28/28</th>\n",
       "      <th id=\"T_7d357_level0_col1\" class=\"col_heading level0 col1\" >FHLMC 1 1/4 01/29/30</th>\n",
       "      <th id=\"T_7d357_level0_col2\" class=\"col_heading level0 col2\" >FHLMC 4.41 01/28/30</th>\n",
       "    </tr>\n",
       "    <tr>\n",
       "      <th class=\"index_name level0\" >info</th>\n",
       "      <th class=\"blank col0\" >&nbsp;</th>\n",
       "      <th class=\"blank col1\" >&nbsp;</th>\n",
       "      <th class=\"blank col2\" >&nbsp;</th>\n",
       "    </tr>\n",
       "  </thead>\n",
       "  <tbody>\n",
       "    <tr>\n",
       "      <th id=\"T_7d357_level0_row0\" class=\"row_heading level0 row0\" >CUSIP</th>\n",
       "      <td id=\"T_7d357_row0_col0\" class=\"data row0 col0\" >3134GW5F9</td>\n",
       "      <td id=\"T_7d357_row0_col1\" class=\"data row0 col1\" >3134GWGK6</td>\n",
       "      <td id=\"T_7d357_row0_col2\" class=\"data row0 col2\" >3134HA4V2</td>\n",
       "    </tr>\n",
       "    <tr>\n",
       "      <th id=\"T_7d357_level0_row1\" class=\"row_heading level0 row1\" >Issuer</th>\n",
       "      <td id=\"T_7d357_row1_col0\" class=\"data row1 col0\" >FREDDIE MAC</td>\n",
       "      <td id=\"T_7d357_row1_col1\" class=\"data row1 col1\" >FREDDIE MAC</td>\n",
       "      <td id=\"T_7d357_row1_col2\" class=\"data row1 col2\" >FREDDIE MAC</td>\n",
       "    </tr>\n",
       "    <tr>\n",
       "      <th id=\"T_7d357_level0_row2\" class=\"row_heading level0 row2\" >Maturity Type</th>\n",
       "      <td id=\"T_7d357_row2_col0\" class=\"data row2 col0\" >CALLABLE</td>\n",
       "      <td id=\"T_7d357_row2_col1\" class=\"data row2 col1\" >CALLABLE</td>\n",
       "      <td id=\"T_7d357_row2_col2\" class=\"data row2 col2\" >CALLABLE</td>\n",
       "    </tr>\n",
       "    <tr>\n",
       "      <th id=\"T_7d357_level0_row3\" class=\"row_heading level0 row3\" >Issuer Industry</th>\n",
       "      <td id=\"T_7d357_row3_col0\" class=\"data row3 col0\" >GOVT AGENCY</td>\n",
       "      <td id=\"T_7d357_row3_col1\" class=\"data row3 col1\" >GOVT AGENCY</td>\n",
       "      <td id=\"T_7d357_row3_col2\" class=\"data row3 col2\" >GOVT AGENCY</td>\n",
       "    </tr>\n",
       "    <tr>\n",
       "      <th id=\"T_7d357_level0_row4\" class=\"row_heading level0 row4\" >Amount Issued</th>\n",
       "      <td id=\"T_7d357_row4_col0\" class=\"data row4 col0\" >30,000,000</td>\n",
       "      <td id=\"T_7d357_row4_col1\" class=\"data row4 col1\" >25,000,000</td>\n",
       "      <td id=\"T_7d357_row4_col2\" class=\"data row4 col2\" >10,000,000</td>\n",
       "    </tr>\n",
       "    <tr>\n",
       "      <th id=\"T_7d357_level0_row5\" class=\"row_heading level0 row5\" >Cpn Rate</th>\n",
       "      <td id=\"T_7d357_row5_col0\" class=\"data row5 col0\" >0.97%</td>\n",
       "      <td id=\"T_7d357_row5_col1\" class=\"data row5 col1\" >1.25%</td>\n",
       "      <td id=\"T_7d357_row5_col2\" class=\"data row5 col2\" >4.41%</td>\n",
       "    </tr>\n",
       "    <tr>\n",
       "      <th id=\"T_7d357_level0_row6\" class=\"row_heading level0 row6\" >Cpn Freq</th>\n",
       "      <td id=\"T_7d357_row6_col0\" class=\"data row6 col0\" >2</td>\n",
       "      <td id=\"T_7d357_row6_col1\" class=\"data row6 col1\" >2</td>\n",
       "      <td id=\"T_7d357_row6_col2\" class=\"data row6 col2\" >2</td>\n",
       "    </tr>\n",
       "    <tr>\n",
       "      <th id=\"T_7d357_level0_row7\" class=\"row_heading level0 row7\" >Date Quoted</th>\n",
       "      <td id=\"T_7d357_row7_col0\" class=\"data row7 col0\" >2025-02-13</td>\n",
       "      <td id=\"T_7d357_row7_col1\" class=\"data row7 col1\" >2025-02-13</td>\n",
       "      <td id=\"T_7d357_row7_col2\" class=\"data row7 col2\" >2025-02-13</td>\n",
       "    </tr>\n",
       "    <tr>\n",
       "      <th id=\"T_7d357_level0_row8\" class=\"row_heading level0 row8\" >Date Issued</th>\n",
       "      <td id=\"T_7d357_row8_col0\" class=\"data row8 col0\" >2020-10-28</td>\n",
       "      <td id=\"T_7d357_row8_col1\" class=\"data row8 col1\" >2020-07-29</td>\n",
       "      <td id=\"T_7d357_row8_col2\" class=\"data row8 col2\" >2025-01-28</td>\n",
       "    </tr>\n",
       "    <tr>\n",
       "      <th id=\"T_7d357_level0_row9\" class=\"row_heading level0 row9\" >Date Matures</th>\n",
       "      <td id=\"T_7d357_row9_col0\" class=\"data row9 col0\" >2028-01-28</td>\n",
       "      <td id=\"T_7d357_row9_col1\" class=\"data row9 col1\" >2030-01-29</td>\n",
       "      <td id=\"T_7d357_row9_col2\" class=\"data row9 col2\" >2030-01-28</td>\n",
       "    </tr>\n",
       "    <tr>\n",
       "      <th id=\"T_7d357_level0_row10\" class=\"row_heading level0 row10\" >Date of First Possible Call</th>\n",
       "      <td id=\"T_7d357_row10_col0\" class=\"data row10 col0\" >2021-01-28 00:00:00</td>\n",
       "      <td id=\"T_7d357_row10_col1\" class=\"data row10 col1\" >2021-01-29 00:00:00</td>\n",
       "      <td id=\"T_7d357_row10_col2\" class=\"data row10 col2\" >2028-01-28 00:00:00</td>\n",
       "    </tr>\n",
       "    <tr>\n",
       "      <th id=\"T_7d357_level0_row11\" class=\"row_heading level0 row11\" >Date Next Call</th>\n",
       "      <td id=\"T_7d357_row11_col0\" class=\"data row11 col0\" >2025-04-28</td>\n",
       "      <td id=\"T_7d357_row11_col1\" class=\"data row11 col1\" >2025-04-29</td>\n",
       "      <td id=\"T_7d357_row11_col2\" class=\"data row11 col2\" >2028-01-28</td>\n",
       "    </tr>\n",
       "    <tr>\n",
       "      <th id=\"T_7d357_level0_row12\" class=\"row_heading level0 row12\" >Strike</th>\n",
       "      <td id=\"T_7d357_row12_col0\" class=\"data row12 col0\" >100</td>\n",
       "      <td id=\"T_7d357_row12_col1\" class=\"data row12 col1\" >100</td>\n",
       "      <td id=\"T_7d357_row12_col2\" class=\"data row12 col2\" >100</td>\n",
       "    </tr>\n",
       "  </tbody>\n",
       "</table>\n"
      ],
      "text/plain": [
       "<pandas.io.formats.style.Styler at 0x2c6b38ffb30>"
      ]
     },
     "execution_count": 73,
     "metadata": {},
     "output_type": "execute_result"
    }
   ],
   "source": [
    "import pandas as pd\n",
    "\n",
    "info = pd.read_excel(FILE_BOND,sheet_name='info').set_index('info')\n",
    "info.style.format('{:.2%}',subset=pd.IndexSlice[[\"Cpn Rate\"], :]).format('{:,.0f}',subset=pd.IndexSlice[[\"Amount Issued\"], :]).format('{:%Y-%m-%d}',subset=pd.IndexSlice[[\"Date Quoted\",\"Date Issued\",\"Date Matures\",\"Date Next Call\"], :])"
   ]
  },
  {
   "cell_type": "markdown",
   "metadata": {},
   "source": [
    "### Quoted Values"
   ]
  },
  {
   "cell_type": "code",
   "execution_count": 74,
   "metadata": {},
   "outputs": [
    {
     "data": {
      "text/html": [
       "<style type=\"text/css\">\n",
       "</style>\n",
       "<table id=\"T_d07c2\">\n",
       "  <thead>\n",
       "    <tr>\n",
       "      <th class=\"blank level0\" >&nbsp;</th>\n",
       "      <th id=\"T_d07c2_level0_col0\" class=\"col_heading level0 col0\" >FHLMC 0.97 01/28/28</th>\n",
       "      <th id=\"T_d07c2_level0_col1\" class=\"col_heading level0 col1\" >FHLMC 1 1/4 01/29/30</th>\n",
       "      <th id=\"T_d07c2_level0_col2\" class=\"col_heading level0 col2\" >FHLMC 4.41 01/28/30</th>\n",
       "    </tr>\n",
       "    <tr>\n",
       "      <th class=\"index_name level0\" >quotes</th>\n",
       "      <th class=\"blank col0\" >&nbsp;</th>\n",
       "      <th class=\"blank col1\" >&nbsp;</th>\n",
       "      <th class=\"blank col2\" >&nbsp;</th>\n",
       "    </tr>\n",
       "  </thead>\n",
       "  <tbody>\n",
       "    <tr>\n",
       "      <th id=\"T_d07c2_level0_row0\" class=\"row_heading level0 row0\" >Date Quoted</th>\n",
       "      <td id=\"T_d07c2_row0_col0\" class=\"data row0 col0\" >2025-02-13</td>\n",
       "      <td id=\"T_d07c2_row0_col1\" class=\"data row0 col1\" >2025-02-13</td>\n",
       "      <td id=\"T_d07c2_row0_col2\" class=\"data row0 col2\" >2025-02-13</td>\n",
       "    </tr>\n",
       "    <tr>\n",
       "      <th id=\"T_d07c2_level0_row1\" class=\"row_heading level0 row1\" >TTM</th>\n",
       "      <td id=\"T_d07c2_row1_col0\" class=\"data row1 col0\" >2.95</td>\n",
       "      <td id=\"T_d07c2_row1_col1\" class=\"data row1 col1\" >4.96</td>\n",
       "      <td id=\"T_d07c2_row1_col2\" class=\"data row1 col2\" >4.96</td>\n",
       "    </tr>\n",
       "    <tr>\n",
       "      <th id=\"T_d07c2_level0_row2\" class=\"row_heading level0 row2\" >Clean Price</th>\n",
       "      <td id=\"T_d07c2_row2_col0\" class=\"data row2 col0\" >90.14</td>\n",
       "      <td id=\"T_d07c2_row2_col1\" class=\"data row2 col1\" >85.11</td>\n",
       "      <td id=\"T_d07c2_row2_col2\" class=\"data row2 col2\" >99.89</td>\n",
       "    </tr>\n",
       "    <tr>\n",
       "      <th id=\"T_d07c2_level0_row3\" class=\"row_heading level0 row3\" >Dirty Price</th>\n",
       "      <td id=\"T_d07c2_row3_col0\" class=\"data row3 col0\" >90.19</td>\n",
       "      <td id=\"T_d07c2_row3_col1\" class=\"data row3 col1\" >85.16</td>\n",
       "      <td id=\"T_d07c2_row3_col2\" class=\"data row3 col2\" >100.09</td>\n",
       "    </tr>\n",
       "    <tr>\n",
       "      <th id=\"T_d07c2_level0_row4\" class=\"row_heading level0 row4\" >Accrued Interest</th>\n",
       "      <td id=\"T_d07c2_row4_col0\" class=\"data row4 col0\" >0.04</td>\n",
       "      <td id=\"T_d07c2_row4_col1\" class=\"data row4 col1\" >0.05</td>\n",
       "      <td id=\"T_d07c2_row4_col2\" class=\"data row4 col2\" >0.20</td>\n",
       "    </tr>\n",
       "    <tr>\n",
       "      <th id=\"T_d07c2_level0_row5\" class=\"row_heading level0 row5\" >YTM Call</th>\n",
       "      <td id=\"T_d07c2_row5_col0\" class=\"data row5 col0\" >54.24</td>\n",
       "      <td id=\"T_d07c2_row5_col1\" class=\"data row5 col1\" >85.40</td>\n",
       "      <td id=\"T_d07c2_row5_col2\" class=\"data row5 col2\" >4.45</td>\n",
       "    </tr>\n",
       "    <tr>\n",
       "      <th id=\"T_d07c2_level0_row6\" class=\"row_heading level0 row6\" >YTM Maturity</th>\n",
       "      <td id=\"T_d07c2_row6_col0\" class=\"data row6 col0\" >4.57</td>\n",
       "      <td id=\"T_d07c2_row6_col1\" class=\"data row6 col1\" >4.65</td>\n",
       "      <td id=\"T_d07c2_row6_col2\" class=\"data row6 col2\" >4.43</td>\n",
       "    </tr>\n",
       "    <tr>\n",
       "      <th id=\"T_d07c2_level0_row7\" class=\"row_heading level0 row7\" >Duration</th>\n",
       "      <td id=\"T_d07c2_row7_col0\" class=\"data row7 col0\" >2.92</td>\n",
       "      <td id=\"T_d07c2_row7_col1\" class=\"data row7 col1\" >4.81</td>\n",
       "      <td id=\"T_d07c2_row7_col2\" class=\"data row7 col2\" >4.50</td>\n",
       "    </tr>\n",
       "    <tr>\n",
       "      <th id=\"T_d07c2_level0_row8\" class=\"row_heading level0 row8\" >Modified Duration</th>\n",
       "      <td id=\"T_d07c2_row8_col0\" class=\"data row8 col0\" >2.85</td>\n",
       "      <td id=\"T_d07c2_row8_col1\" class=\"data row8 col1\" >4.70</td>\n",
       "      <td id=\"T_d07c2_row8_col2\" class=\"data row8 col2\" >4.40</td>\n",
       "    </tr>\n",
       "    <tr>\n",
       "      <th id=\"T_d07c2_level0_row9\" class=\"row_heading level0 row9\" >Convexity</th>\n",
       "      <td id=\"T_d07c2_row9_col0\" class=\"data row9 col0\" >0.10</td>\n",
       "      <td id=\"T_d07c2_row9_col1\" class=\"data row9 col1\" >0.25</td>\n",
       "      <td id=\"T_d07c2_row9_col2\" class=\"data row9 col2\" >0.23</td>\n",
       "    </tr>\n",
       "    <tr>\n",
       "      <th id=\"T_d07c2_level0_row10\" class=\"row_heading level0 row10\" >Treasury YLD Spread</th>\n",
       "      <td id=\"T_d07c2_row10_col0\" class=\"data row10 col0\" >25.14</td>\n",
       "      <td id=\"T_d07c2_row10_col1\" class=\"data row10 col1\" >26.01</td>\n",
       "      <td id=\"T_d07c2_row10_col2\" class=\"data row10 col2\" >4.71</td>\n",
       "    </tr>\n",
       "    <tr>\n",
       "      <th id=\"T_d07c2_level0_row11\" class=\"row_heading level0 row11\" >OAS Spread</th>\n",
       "      <td id=\"T_d07c2_row11_col0\" class=\"data row11 col0\" >25.83</td>\n",
       "      <td id=\"T_d07c2_row11_col1\" class=\"data row11 col1\" >25.97</td>\n",
       "      <td id=\"T_d07c2_row11_col2\" class=\"data row11 col2\" >-26.77</td>\n",
       "    </tr>\n",
       "    <tr>\n",
       "      <th id=\"T_d07c2_level0_row12\" class=\"row_heading level0 row12\" >Implied Vol</th>\n",
       "      <td id=\"T_d07c2_row12_col0\" class=\"data row12 col0\" >19.60</td>\n",
       "      <td id=\"T_d07c2_row12_col1\" class=\"data row12 col1\" >21.09</td>\n",
       "      <td id=\"T_d07c2_row12_col2\" class=\"data row12 col2\" >23.88</td>\n",
       "    </tr>\n",
       "  </tbody>\n",
       "</table>\n"
      ],
      "text/plain": [
       "<pandas.io.formats.style.Styler at 0x2c6b1953f80>"
      ]
     },
     "execution_count": 74,
     "metadata": {},
     "output_type": "execute_result"
    }
   ],
   "source": [
    "quotes = pd.read_excel(FILE_BOND,sheet_name='quotes').set_index('quotes')\n",
    "quotes.style.format('{:.2f}', subset=pd.IndexSlice[quotes.index[1:], :]).format('{:%Y-%m-%d}', subset=pd.IndexSlice['Date Quoted', :])"
   ]
  },
  {
   "cell_type": "markdown",
   "metadata": {},
   "source": [
    "### Discount Curves"
   ]
  },
  {
   "cell_type": "code",
   "execution_count": 75,
   "metadata": {},
   "outputs": [
    {
     "data": {
      "application/vnd.microsoft.datawrangler.viewer.v0+json": {
       "columns": [
        {
         "name": "ttm",
         "rawType": "float64",
         "type": "float"
        },
        {
         "name": "maturity date",
         "rawType": "datetime64[ns]",
         "type": "datetime"
        },
        {
         "name": "spot rate",
         "rawType": "float64",
         "type": "float"
        },
        {
         "name": "discount",
         "rawType": "float64",
         "type": "float"
        }
       ],
       "conversionMethod": "pd.DataFrame",
       "ref": "7573d8bb-3585-4aed-9732-dc8dd954ae94",
       "rows": [
        [
         "0.5",
         "2025-08-13 00:00:00",
         "0.04374321525887319",
         "0.9785965208680425"
        ],
        [
         "1.0",
         "2026-02-13 00:00:00",
         "0.04289036285396924",
         "0.9584509053402022"
        ],
        [
         "1.5",
         "2026-08-13 00:00:00",
         "0.04223768467719718",
         "0.9392282128072968"
        ],
        [
         "2.0",
         "2027-02-13 00:00:00",
         "0.04184258476947162",
         "0.9205151777624864"
        ],
        [
         "2.5",
         "2027-08-13 00:00:00",
         "0.04163167838051442",
         "0.902117275956698"
        ]
       ],
       "shape": {
        "columns": 3,
        "rows": 5
       }
      },
      "text/html": [
       "<div>\n",
       "<style scoped>\n",
       "    .dataframe tbody tr th:only-of-type {\n",
       "        vertical-align: middle;\n",
       "    }\n",
       "\n",
       "    .dataframe tbody tr th {\n",
       "        vertical-align: top;\n",
       "    }\n",
       "\n",
       "    .dataframe thead th {\n",
       "        text-align: right;\n",
       "    }\n",
       "</style>\n",
       "<table border=\"1\" class=\"dataframe\">\n",
       "  <thead>\n",
       "    <tr style=\"text-align: right;\">\n",
       "      <th></th>\n",
       "      <th>maturity date</th>\n",
       "      <th>spot rate</th>\n",
       "      <th>discount</th>\n",
       "    </tr>\n",
       "    <tr>\n",
       "      <th>ttm</th>\n",
       "      <th></th>\n",
       "      <th></th>\n",
       "      <th></th>\n",
       "    </tr>\n",
       "  </thead>\n",
       "  <tbody>\n",
       "    <tr>\n",
       "      <th>0.5</th>\n",
       "      <td>2025-08-13</td>\n",
       "      <td>0.043743</td>\n",
       "      <td>0.978597</td>\n",
       "    </tr>\n",
       "    <tr>\n",
       "      <th>1.0</th>\n",
       "      <td>2026-02-13</td>\n",
       "      <td>0.042890</td>\n",
       "      <td>0.958451</td>\n",
       "    </tr>\n",
       "    <tr>\n",
       "      <th>1.5</th>\n",
       "      <td>2026-08-13</td>\n",
       "      <td>0.042238</td>\n",
       "      <td>0.939228</td>\n",
       "    </tr>\n",
       "    <tr>\n",
       "      <th>2.0</th>\n",
       "      <td>2027-02-13</td>\n",
       "      <td>0.041843</td>\n",
       "      <td>0.920515</td>\n",
       "    </tr>\n",
       "    <tr>\n",
       "      <th>2.5</th>\n",
       "      <td>2027-08-13</td>\n",
       "      <td>0.041632</td>\n",
       "      <td>0.902117</td>\n",
       "    </tr>\n",
       "  </tbody>\n",
       "</table>\n",
       "</div>"
      ],
      "text/plain": [
       "    maturity date  spot rate  discount\n",
       "ttm                                   \n",
       "0.5    2025-08-13   0.043743  0.978597\n",
       "1.0    2026-02-13   0.042890  0.958451\n",
       "1.5    2026-08-13   0.042238  0.939228\n",
       "2.0    2027-02-13   0.041843  0.920515\n",
       "2.5    2027-08-13   0.041632  0.902117"
      ]
     },
     "metadata": {},
     "output_type": "display_data"
    },
    {
     "data": {
      "application/vnd.microsoft.datawrangler.viewer.v0+json": {
       "columns": [
        {
         "name": "ttm",
         "rawType": "float64",
         "type": "float"
        },
        {
         "name": "maturity date",
         "rawType": "datetime64[ns]",
         "type": "datetime"
        },
        {
         "name": "spot rate",
         "rawType": "float64",
         "type": "float"
        },
        {
         "name": "discount",
         "rawType": "float64",
         "type": "float"
        }
       ],
       "conversionMethod": "pd.DataFrame",
       "ref": "522ab54d-4612-42c7-bdac-3f738308a5ca",
       "rows": [
        [
         "28.0",
         "2053-02-13 00:00:00",
         "0.04018540668049075",
         "0.3282313800000004"
        ],
        [
         "28.5",
         "2053-08-13 00:00:00",
         "0.04005082023911271",
         "0.3229784373349789"
        ],
        [
         "29.0",
         "2054-02-13 00:00:00",
         "0.03991624609413897",
         "0.3178514652297276"
        ],
        [
         "29.5",
         "2054-08-13 00:00:00",
         "0.03979064217610605",
         "0.3127660715571811"
        ],
        [
         "30.0",
         "2055-02-13 00:00:00",
         "0.03966479447441013",
         "0.3078022210739757"
        ]
       ],
       "shape": {
        "columns": 3,
        "rows": 5
       }
      },
      "text/html": [
       "<div>\n",
       "<style scoped>\n",
       "    .dataframe tbody tr th:only-of-type {\n",
       "        vertical-align: middle;\n",
       "    }\n",
       "\n",
       "    .dataframe tbody tr th {\n",
       "        vertical-align: top;\n",
       "    }\n",
       "\n",
       "    .dataframe thead th {\n",
       "        text-align: right;\n",
       "    }\n",
       "</style>\n",
       "<table border=\"1\" class=\"dataframe\">\n",
       "  <thead>\n",
       "    <tr style=\"text-align: right;\">\n",
       "      <th></th>\n",
       "      <th>maturity date</th>\n",
       "      <th>spot rate</th>\n",
       "      <th>discount</th>\n",
       "    </tr>\n",
       "    <tr>\n",
       "      <th>ttm</th>\n",
       "      <th></th>\n",
       "      <th></th>\n",
       "      <th></th>\n",
       "    </tr>\n",
       "  </thead>\n",
       "  <tbody>\n",
       "    <tr>\n",
       "      <th>28.0</th>\n",
       "      <td>2053-02-13</td>\n",
       "      <td>0.040185</td>\n",
       "      <td>0.328231</td>\n",
       "    </tr>\n",
       "    <tr>\n",
       "      <th>28.5</th>\n",
       "      <td>2053-08-13</td>\n",
       "      <td>0.040051</td>\n",
       "      <td>0.322978</td>\n",
       "    </tr>\n",
       "    <tr>\n",
       "      <th>29.0</th>\n",
       "      <td>2054-02-13</td>\n",
       "      <td>0.039916</td>\n",
       "      <td>0.317851</td>\n",
       "    </tr>\n",
       "    <tr>\n",
       "      <th>29.5</th>\n",
       "      <td>2054-08-13</td>\n",
       "      <td>0.039791</td>\n",
       "      <td>0.312766</td>\n",
       "    </tr>\n",
       "    <tr>\n",
       "      <th>30.0</th>\n",
       "      <td>2055-02-13</td>\n",
       "      <td>0.039665</td>\n",
       "      <td>0.307802</td>\n",
       "    </tr>\n",
       "  </tbody>\n",
       "</table>\n",
       "</div>"
      ],
      "text/plain": [
       "     maturity date  spot rate  discount\n",
       "ttm                                    \n",
       "28.0    2053-02-13   0.040185  0.328231\n",
       "28.5    2053-08-13   0.040051  0.322978\n",
       "29.0    2054-02-13   0.039916  0.317851\n",
       "29.5    2054-08-13   0.039791  0.312766\n",
       "30.0    2055-02-13   0.039665  0.307802"
      ]
     },
     "metadata": {},
     "output_type": "display_data"
    }
   ],
   "source": [
    "discs = pd.read_excel(FILE_CURVE,sheet_name='discount curve').set_index('ttm')\n",
    "display(discs.head())\n",
    "display(discs.tail())"
   ]
  },
  {
   "cell_type": "markdown",
   "metadata": {},
   "source": [
    "***"
   ]
  },
  {
   "cell_type": "code",
   "execution_count": 76,
   "metadata": {},
   "outputs": [],
   "source": [
    "import sys\n",
    "import os\n",
    "\n",
    "cmds_path = os.path.abspath(os.path.join(os.getcwd(), \"../cmds\"))\n",
    "if cmds_path not in sys.path:\n",
    "    sys.path.append(cmds_path)\n",
    "\n",
    "# Now you can import bondmath\n",
    "import bondmath"
   ]
  },
  {
   "cell_type": "code",
   "execution_count": 77,
   "metadata": {},
   "outputs": [
    {
     "data": {
      "application/vnd.microsoft.datawrangler.viewer.v0+json": {
       "columns": [
        {
         "name": "quotes",
         "rawType": "object",
         "type": "string"
        },
        {
         "name": "FHLMC 0.97 01/28/28",
         "rawType": "object",
         "type": "unknown"
        },
        {
         "name": "FHLMC 1 1/4 01/29/30",
         "rawType": "object",
         "type": "unknown"
        },
        {
         "name": "FHLMC 4.41 01/28/30",
         "rawType": "object",
         "type": "unknown"
        }
       ],
       "conversionMethod": "pd.DataFrame",
       "ref": "4ad658a9-d06e-4815-9a6d-e56c05a93d8e",
       "rows": [
        [
         "Date Quoted",
         "2025-02-13 00:00:00",
         "2025-02-13 00:00:00",
         "2025-02-13 00:00:00"
        ],
        [
         "TTM",
         "2.954140999315537",
         "4.958247775496235",
         "4.955509924709103"
        ],
        [
         "Clean Price",
         "90.144",
         "85.1095",
         "99.893"
        ],
        [
         "Dirty Price",
         "90.18711111111112",
         "85.16158333333333",
         "100.089"
        ],
        [
         "Accrued Interest",
         "0.04311111111111111",
         "0.05208333333333334",
         "0.196"
        ],
        [
         "YTM Call",
         "54.24068639679632",
         "85.39578194001808",
         "4.448321150444964"
        ],
        [
         "YTM Maturity",
         "4.572926620650469",
         "4.646847118701515",
         "4.433845268135366"
        ],
        [
         "Duration",
         "2.917203100911482",
         "4.806058307954729",
         "4.496738331374342"
        ],
        [
         "Modified Duration",
         "2.851993320035934",
         "4.696928758611234",
         "4.399211222071787"
        ],
        [
         "Convexity",
         "0.09594423979432089",
         "0.2480272994039197",
         "0.2271726357712003"
        ],
        [
         "Treasury YLD Spread",
         "25.13560000000004",
         "26.00910000000001",
         "4.708899999999971"
        ],
        [
         "OAS Spread",
         "25.82999424781597",
         "25.96975930528966",
         "-26.76808540103936"
        ],
        [
         "Implied Vol",
         "19.59899139404297",
         "21.0933780670166",
         "23.87982940673828"
        ]
       ],
       "shape": {
        "columns": 3,
        "rows": 13
       }
      },
      "text/html": [
       "<div>\n",
       "<style scoped>\n",
       "    .dataframe tbody tr th:only-of-type {\n",
       "        vertical-align: middle;\n",
       "    }\n",
       "\n",
       "    .dataframe tbody tr th {\n",
       "        vertical-align: top;\n",
       "    }\n",
       "\n",
       "    .dataframe thead th {\n",
       "        text-align: right;\n",
       "    }\n",
       "</style>\n",
       "<table border=\"1\" class=\"dataframe\">\n",
       "  <thead>\n",
       "    <tr style=\"text-align: right;\">\n",
       "      <th></th>\n",
       "      <th>FHLMC 0.97 01/28/28</th>\n",
       "      <th>FHLMC 1 1/4 01/29/30</th>\n",
       "      <th>FHLMC 4.41 01/28/30</th>\n",
       "    </tr>\n",
       "    <tr>\n",
       "      <th>quotes</th>\n",
       "      <th></th>\n",
       "      <th></th>\n",
       "      <th></th>\n",
       "    </tr>\n",
       "  </thead>\n",
       "  <tbody>\n",
       "    <tr>\n",
       "      <th>Date Quoted</th>\n",
       "      <td>2025-02-13 00:00:00</td>\n",
       "      <td>2025-02-13 00:00:00</td>\n",
       "      <td>2025-02-13 00:00:00</td>\n",
       "    </tr>\n",
       "    <tr>\n",
       "      <th>TTM</th>\n",
       "      <td>2.954141</td>\n",
       "      <td>4.958248</td>\n",
       "      <td>4.95551</td>\n",
       "    </tr>\n",
       "    <tr>\n",
       "      <th>Clean Price</th>\n",
       "      <td>90.144</td>\n",
       "      <td>85.1095</td>\n",
       "      <td>99.893</td>\n",
       "    </tr>\n",
       "    <tr>\n",
       "      <th>Dirty Price</th>\n",
       "      <td>90.187111</td>\n",
       "      <td>85.161583</td>\n",
       "      <td>100.089</td>\n",
       "    </tr>\n",
       "    <tr>\n",
       "      <th>Accrued Interest</th>\n",
       "      <td>0.043111</td>\n",
       "      <td>0.052083</td>\n",
       "      <td>0.196</td>\n",
       "    </tr>\n",
       "    <tr>\n",
       "      <th>YTM Call</th>\n",
       "      <td>54.240686</td>\n",
       "      <td>85.395782</td>\n",
       "      <td>4.448321</td>\n",
       "    </tr>\n",
       "    <tr>\n",
       "      <th>YTM Maturity</th>\n",
       "      <td>4.572927</td>\n",
       "      <td>4.646847</td>\n",
       "      <td>4.433845</td>\n",
       "    </tr>\n",
       "    <tr>\n",
       "      <th>Duration</th>\n",
       "      <td>2.917203</td>\n",
       "      <td>4.806058</td>\n",
       "      <td>4.496738</td>\n",
       "    </tr>\n",
       "    <tr>\n",
       "      <th>Modified Duration</th>\n",
       "      <td>2.851993</td>\n",
       "      <td>4.696929</td>\n",
       "      <td>4.399211</td>\n",
       "    </tr>\n",
       "    <tr>\n",
       "      <th>Convexity</th>\n",
       "      <td>0.095944</td>\n",
       "      <td>0.248027</td>\n",
       "      <td>0.227173</td>\n",
       "    </tr>\n",
       "    <tr>\n",
       "      <th>Treasury YLD Spread</th>\n",
       "      <td>25.1356</td>\n",
       "      <td>26.0091</td>\n",
       "      <td>4.7089</td>\n",
       "    </tr>\n",
       "    <tr>\n",
       "      <th>OAS Spread</th>\n",
       "      <td>25.829994</td>\n",
       "      <td>25.969759</td>\n",
       "      <td>-26.768085</td>\n",
       "    </tr>\n",
       "    <tr>\n",
       "      <th>Implied Vol</th>\n",
       "      <td>19.598991</td>\n",
       "      <td>21.093378</td>\n",
       "      <td>23.879829</td>\n",
       "    </tr>\n",
       "  </tbody>\n",
       "</table>\n",
       "</div>"
      ],
      "text/plain": [
       "                     FHLMC 0.97 01/28/28 FHLMC 1 1/4 01/29/30  \\\n",
       "quotes                                                          \n",
       "Date Quoted          2025-02-13 00:00:00  2025-02-13 00:00:00   \n",
       "TTM                             2.954141             4.958248   \n",
       "Clean Price                       90.144              85.1095   \n",
       "Dirty Price                    90.187111            85.161583   \n",
       "Accrued Interest                0.043111             0.052083   \n",
       "YTM Call                       54.240686            85.395782   \n",
       "YTM Maturity                    4.572927             4.646847   \n",
       "Duration                        2.917203             4.806058   \n",
       "Modified Duration               2.851993             4.696929   \n",
       "Convexity                       0.095944             0.248027   \n",
       "Treasury YLD Spread              25.1356              26.0091   \n",
       "OAS Spread                     25.829994            25.969759   \n",
       "Implied Vol                    19.598991            21.093378   \n",
       "\n",
       "                     FHLMC 4.41 01/28/30  \n",
       "quotes                                    \n",
       "Date Quoted          2025-02-13 00:00:00  \n",
       "TTM                              4.95551  \n",
       "Clean Price                       99.893  \n",
       "Dirty Price                      100.089  \n",
       "Accrued Interest                   0.196  \n",
       "YTM Call                        4.448321  \n",
       "YTM Maturity                    4.433845  \n",
       "Duration                        4.496738  \n",
       "Modified Duration               4.399211  \n",
       "Convexity                       0.227173  \n",
       "Treasury YLD Spread               4.7089  \n",
       "OAS Spread                    -26.768085  \n",
       "Implied Vol                    23.879829  "
      ]
     },
     "execution_count": 77,
     "metadata": {},
     "output_type": "execute_result"
    }
   ],
   "source": [
    "quotes"
   ]
  },
  {
   "cell_type": "markdown",
   "metadata": {},
   "source": [
    "### 1.1.\n",
    "\n",
    "Use the discount curve data to price both the `callable` and `reference` bonds.\n",
    "\n",
    "For now, calculate the price of the `callable` bond as if it were non-callable. We refer to this as the `hypothetical` bond."
   ]
  },
  {
   "cell_type": "code",
   "execution_count": null,
   "metadata": {},
   "outputs": [
    {
     "data": {
      "application/vnd.microsoft.datawrangler.viewer.v0+json": {
       "columns": [
        {
         "name": "index",
         "rawType": "int64",
         "type": "integer"
        },
        {
         "name": "FHLMC 0.97 01/28/28",
         "rawType": "object",
         "type": "unknown"
        },
        {
         "name": "FHLMC 1 1/4 01/29/30",
         "rawType": "object",
         "type": "unknown"
        },
        {
         "name": "FHLMC 4.41 01/28/30",
         "rawType": "object",
         "type": "unknown"
        }
       ],
       "conversionMethod": "pd.DataFrame",
       "ref": "938d3c38-8140-4d72-a4e2-090505eb0776",
       "rows": [
        [
         "0",
         "2025-02-13 00:00:00",
         "2025-02-13 00:00:00",
         "2025-02-13 00:00:00"
        ],
        [
         "1",
         "2.954140999315537",
         "4.958247775496235",
         "4.955509924709103"
        ],
        [
         "2",
         "90.144",
         "85.1095",
         "99.893"
        ],
        [
         "3",
         "90.18711111111112",
         "85.16158333333333",
         "100.089"
        ],
        [
         "4",
         "0.04311111111111111",
         "0.05208333333333334",
         "0.196"
        ],
        [
         "5",
         "54.24068639679632",
         "85.39578194001808",
         "4.448321150444964"
        ],
        [
         "6",
         "4.572926620650469",
         "4.646847118701515",
         "4.433845268135366"
        ],
        [
         "7",
         "2.917203100911482",
         "4.806058307954729",
         "4.496738331374342"
        ],
        [
         "8",
         "2.851993320035934",
         "4.696928758611234",
         "4.399211222071787"
        ],
        [
         "9",
         "0.09594423979432089",
         "0.2480272994039197",
         "0.2271726357712003"
        ],
        [
         "10",
         "25.13560000000004",
         "26.00910000000001",
         "4.708899999999971"
        ],
        [
         "11",
         "25.82999424781597",
         "25.96975930528966",
         "-26.76808540103936"
        ],
        [
         "12",
         "19.59899139404297",
         "21.0933780670166",
         "23.87982940673828"
        ],
        [
         "13",
         "100.0",
         "99.99999999999999",
         "100.0"
        ]
       ],
       "shape": {
        "columns": 3,
        "rows": 14
       }
      },
      "text/html": [
       "<div>\n",
       "<style scoped>\n",
       "    .dataframe tbody tr th:only-of-type {\n",
       "        vertical-align: middle;\n",
       "    }\n",
       "\n",
       "    .dataframe tbody tr th {\n",
       "        vertical-align: top;\n",
       "    }\n",
       "\n",
       "    .dataframe thead th {\n",
       "        text-align: right;\n",
       "    }\n",
       "</style>\n",
       "<table border=\"1\" class=\"dataframe\">\n",
       "  <thead>\n",
       "    <tr style=\"text-align: right;\">\n",
       "      <th></th>\n",
       "      <th>FHLMC 0.97 01/28/28</th>\n",
       "      <th>FHLMC 1 1/4 01/29/30</th>\n",
       "      <th>FHLMC 4.41 01/28/30</th>\n",
       "    </tr>\n",
       "  </thead>\n",
       "  <tbody>\n",
       "    <tr>\n",
       "      <th>0</th>\n",
       "      <td>2025-02-13 00:00:00</td>\n",
       "      <td>2025-02-13 00:00:00</td>\n",
       "      <td>2025-02-13 00:00:00</td>\n",
       "    </tr>\n",
       "    <tr>\n",
       "      <th>1</th>\n",
       "      <td>2.954141</td>\n",
       "      <td>4.958248</td>\n",
       "      <td>4.95551</td>\n",
       "    </tr>\n",
       "    <tr>\n",
       "      <th>2</th>\n",
       "      <td>90.144</td>\n",
       "      <td>85.1095</td>\n",
       "      <td>99.893</td>\n",
       "    </tr>\n",
       "    <tr>\n",
       "      <th>3</th>\n",
       "      <td>90.187111</td>\n",
       "      <td>85.161583</td>\n",
       "      <td>100.089</td>\n",
       "    </tr>\n",
       "    <tr>\n",
       "      <th>4</th>\n",
       "      <td>0.043111</td>\n",
       "      <td>0.052083</td>\n",
       "      <td>0.196</td>\n",
       "    </tr>\n",
       "    <tr>\n",
       "      <th>5</th>\n",
       "      <td>54.240686</td>\n",
       "      <td>85.395782</td>\n",
       "      <td>4.448321</td>\n",
       "    </tr>\n",
       "    <tr>\n",
       "      <th>6</th>\n",
       "      <td>4.572927</td>\n",
       "      <td>4.646847</td>\n",
       "      <td>4.433845</td>\n",
       "    </tr>\n",
       "    <tr>\n",
       "      <th>7</th>\n",
       "      <td>2.917203</td>\n",
       "      <td>4.806058</td>\n",
       "      <td>4.496738</td>\n",
       "    </tr>\n",
       "    <tr>\n",
       "      <th>8</th>\n",
       "      <td>2.851993</td>\n",
       "      <td>4.696929</td>\n",
       "      <td>4.399211</td>\n",
       "    </tr>\n",
       "    <tr>\n",
       "      <th>9</th>\n",
       "      <td>0.095944</td>\n",
       "      <td>0.248027</td>\n",
       "      <td>0.227173</td>\n",
       "    </tr>\n",
       "    <tr>\n",
       "      <th>10</th>\n",
       "      <td>25.1356</td>\n",
       "      <td>26.0091</td>\n",
       "      <td>4.7089</td>\n",
       "    </tr>\n",
       "    <tr>\n",
       "      <th>11</th>\n",
       "      <td>25.829994</td>\n",
       "      <td>25.969759</td>\n",
       "      <td>-26.768085</td>\n",
       "    </tr>\n",
       "    <tr>\n",
       "      <th>12</th>\n",
       "      <td>19.598991</td>\n",
       "      <td>21.093378</td>\n",
       "      <td>23.879829</td>\n",
       "    </tr>\n",
       "    <tr>\n",
       "      <th>13</th>\n",
       "      <td>100.0</td>\n",
       "      <td>100.0</td>\n",
       "      <td>100.0</td>\n",
       "    </tr>\n",
       "  </tbody>\n",
       "</table>\n",
       "</div>"
      ],
      "text/plain": [
       "    FHLMC 0.97 01/28/28 FHLMC 1 1/4 01/29/30  FHLMC 4.41 01/28/30\n",
       "0   2025-02-13 00:00:00  2025-02-13 00:00:00  2025-02-13 00:00:00\n",
       "1              2.954141             4.958248              4.95551\n",
       "2                90.144              85.1095               99.893\n",
       "3             90.187111            85.161583              100.089\n",
       "4              0.043111             0.052083                0.196\n",
       "5             54.240686            85.395782             4.448321\n",
       "6              4.572927             4.646847             4.433845\n",
       "7              2.917203             4.806058             4.496738\n",
       "8              2.851993             4.696929             4.399211\n",
       "9              0.095944             0.248027             0.227173\n",
       "10              25.1356              26.0091               4.7089\n",
       "11            25.829994            25.969759           -26.768085\n",
       "12            19.598991            21.093378            23.879829\n",
       "13                100.0                100.0                100.0"
      ]
     },
     "execution_count": 78,
     "metadata": {},
     "output_type": "execute_result"
    }
   ],
   "source": [
    "prices = {}\n",
    "\n",
    "for col in quotes.columns:\n",
    "    price = bondmath.bond_pricer_formula(quotes[col].loc['TTM'],quotes[col].loc['YTM Maturity'])\n",
    "    prices[col] = price\n",
    "\n",
    "quotes = pd.concat([quotes, pd.DataFrame(prices, index=[len(quotes)])],ignore_index=True)\n",
    "\n",
    "quotes"
   ]
  },
  {
   "cell_type": "markdown",
   "metadata": {},
   "source": [
    "### 1.2.\n",
    "\n",
    "Calculate the forward price of the `hypothetical` bond as of the date that the `callable` bond can be exercised.\n",
    "\n",
    "Use the information from the discount curve (and associated forward curve) to calculate this forward price."
   ]
  },
  {
   "cell_type": "markdown",
   "metadata": {},
   "source": [
    "### 1.3.\n",
    "\n",
    "The provided implied vol corresponds to the implied vol of the **rate**. Specifically,\n",
    "* the forward rate corresponding to the time of expiration.\n",
    "* continuously compounded.\n",
    "\n",
    "Use the duration approximation to get the approximate implied vol corresponding to the forward price.\n",
    "\n",
    "$$\\sigma_{\\text{bond fwd price}} \\approx D \\times \\sigma_{\\text{fwd rate}}\\times f(T_1)$$\n",
    "\n",
    "where $f(T_1)$ is the continuously-compounded (instantaneous) forward rate at time $T_1$.\n",
    "* If you're struggling with the forward rate calc, just usse the provided spot rate at $T_1$; it will be a close approximation in this example.\n",
    "* In this approximation, use the quoted duration from the table. (Yes, this is a bit circular, but we don't want to get bogged down with a duration calculation at this point.)\n",
    "\n",
    "Report the implied vol of the bond's forward price."
   ]
  },
  {
   "cell_type": "markdown",
   "metadata": {},
   "source": [
    "### 1.4.\n",
    "\n",
    "For the `callable` bond, report Black's value of the embedded call option.\n",
    "* Use this to report the value of the `callable` bond.\n",
    "* How does it compare to the actual market price?\n",
    "\n",
    "For the calculation of the option, use...\n",
    "* the quoted `Implied Vol` calculated above.\n",
    "* forward price of the `hypothetical` bond calculated above.\n",
    "* provided discount factor\n",
    "\n",
    "#### Simplifications\n",
    "Note that in this calculation we are making a few simplifications.\n",
    "* We are simplifying that the `callable` bond is European exercise with an exercise date as reported in `Date Next Call` above. \n",
    "* In reality, it is Bermudan, with quarterly exercise dates after the first exercise date.\n",
    "* The time-to-exercise is not a round number, but you only have discount factors at rounded time-to-maturities. Just use the closest discount factor."
   ]
  },
  {
   "cell_type": "markdown",
   "metadata": {},
   "source": [
    "### 1.5.\n",
    "\n",
    "Calculate the YTM of the callable bond, assuming that...\n",
    "* it can never be called. (This is the `hypothetical` bond we analyzed above.)\n",
    "* it will certainly be called.\n",
    "\n",
    "How do these compare to the quoted YTM Called and YTM Maturity in the table?"
   ]
  },
  {
   "cell_type": "markdown",
   "metadata": {},
   "source": [
    "### 1.6.\n",
    "\n",
    "Calculate the duration of...\n",
    "* the `hypothetical` bond\n",
    "* the `callable` bond\n",
    "\n",
    "How do these compare to the quoted duration in the table?\n",
    "\n",
    "For the callable bond, calculate duration numerically by modifying the spot rates up and down by 1bp and seeing how it changes the valuation of parts `1.1`-`1.3`."
   ]
  },
  {
   "cell_type": "markdown",
   "metadata": {},
   "source": [
    "### 1.7.\n",
    "\n",
    "Calculate the OAS of the `callable` bond.\n",
    "\n",
    "How does it compare to the quoted OAS?\n",
    "\n",
    "Recall that the OAS is the parallel shift in the spot curve needed to align the modeled value to the market quote."
   ]
  },
  {
   "cell_type": "markdown",
   "metadata": {},
   "source": [
    "### 1.8. Optional\n",
    "\n",
    "Calculate the forward price of the `hypothetical` bond, but try doing so by using the `reference` bonds to calculate the forward price.\n",
    "* The prices of these reference bonds would be discount factors, and we simply take the ratio.\n",
    "* However, the coupons of the bonds do not align, so you need to adjust for this fact."
   ]
  },
  {
   "cell_type": "markdown",
   "metadata": {},
   "source": [
    "### 1.9. Optional\n",
    "\n",
    "Analyze what we have called the `reference` bonds as `callable` bonds. \n",
    "\n",
    "Calculate its value, YTMs, duration, and OAS."
   ]
  },
  {
   "cell_type": "markdown",
   "metadata": {},
   "source": [
    "***"
   ]
  },
  {
   "cell_type": "markdown",
   "metadata": {},
   "source": [
    "# 2. Pricing Floors"
   ]
  },
  {
   "cell_type": "markdown",
   "metadata": {},
   "source": [
    "### Data\n",
    "\n",
    "The file `data/cap_curves_2025-01-31.xlsx` has market data on the following curves:\n",
    "* swap rates (SOFR)\n",
    "* discount factors\n",
    "* forward rates \n",
    "* flat volatilites\n",
    "\n",
    "A few details\n",
    "* the swap and forward rates are quarterly compounded.\n",
    "* the flat volatilites are (Black) quotes on caps containing caplets ranging from expiration of $\\tau=.5$ to $\\tau=T$."
   ]
  },
  {
   "cell_type": "markdown",
   "metadata": {},
   "source": [
    "### 2.1.\n",
    "\n",
    "Recall that a floor is a portfolio of floorlets which\n",
    "* depend on the realized interest rate one quarter before the expiration.\n",
    "* each have the same strike interest rate.\n",
    "\n",
    "Use Black's formula to price **just one floorlet**\n",
    "* expiring at `T=3`\n",
    "* struck at the `T=3` swap rate\n",
    "* notional of `100`\n",
    "* quarterly frequency"
   ]
  },
  {
   "cell_type": "markdown",
   "metadata": {},
   "source": [
    "### 2.2.\n",
    "\n",
    "Use Black's formula to price the entire floor with expiration of `T=3`.\n",
    "\n",
    "The floor has floorlets at `quarterly` frequency, except the first quarter."
   ]
  },
  {
   "cell_type": "markdown",
   "metadata": {},
   "source": [
    "***"
   ]
  },
  {
   "cell_type": "markdown",
   "metadata": {},
   "source": [
    "# 3. Stripping Caps"
   ]
  },
  {
   "cell_type": "markdown",
   "metadata": {},
   "source": [
    "### Data\n",
    "\n",
    "Continue with the file `data/cap_curves_2025-01-31.xlsx`."
   ]
  },
  {
   "cell_type": "markdown",
   "metadata": {},
   "source": [
    "### 3.1 Cap Prices\n",
    "\n",
    "For each cap maturity, $.5\\le T \\le 10$, use the flat volatility to get the price of the cap.\n",
    "\n",
    "Report the cap prices across expirations, $.5\\le T \\le 10$.\n",
    "\n",
    "Plot the cap prices across expirations."
   ]
  },
  {
   "cell_type": "markdown",
   "metadata": {},
   "source": [
    "### 3.2 Caplet Prices and Forward Volatilities\n",
    "\n",
    "Using the cap prices, strip out the\n",
    "* caplet prices\n",
    "* forward volatility at $\\tau$ which properly prices caplet $\\tau$ using Black's formula.\n",
    "\n",
    "List and plot the forward volatility versus the flat volatiltiy."
   ]
  },
  {
   "cell_type": "markdown",
   "metadata": {},
   "source": [
    "***"
   ]
  }
 ],
 "metadata": {
  "kernelspec": {
   "display_name": "base",
   "language": "python",
   "name": "python3"
  },
  "language_info": {
   "codemirror_mode": {
    "name": "ipython",
    "version": 3
   },
   "file_extension": ".py",
   "mimetype": "text/x-python",
   "name": "python",
   "nbconvert_exporter": "python",
   "pygments_lexer": "ipython3",
   "version": "3.12.4"
  }
 },
 "nbformat": 4,
 "nbformat_minor": 2
}
